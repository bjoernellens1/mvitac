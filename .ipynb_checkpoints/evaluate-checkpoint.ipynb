{
 "cells": [
  {
   "cell_type": "markdown",
   "source": [
    "---\n",
    "## 1. Library Imports\n",
    "In this section, we import the necessary libraries and packages that will be used throughout the notebook. This includes the PyTorch library for deep learning, torchvision for computer vision tasks, and other utilities.\n",
    "\n",
    "---"
   ],
   "metadata": {
    "collapsed": false
   },
   "id": "e555caee1658085c"
  },
  {
   "cell_type": "code",
   "execution_count": 2,
   "id": "initial_id",
   "metadata": {
    "collapsed": true,
    "ExecuteTime": {
     "end_time": "2023-10-09T09:02:46.392458118Z",
     "start_time": "2023-10-09T09:02:45.671225864Z"
    }
   },
   "outputs": [],
   "source": [
    "import torch\n",
    "from torchvision import models\n",
    "from torch import nn\n",
    "from data_aug.contrastive_learning_dataset import ContrastiveLearningDataset\n",
    "from tqdm import tqdm\n",
    "from utils import accuracy\n",
    "import os\n",
    "import wandb"
   ]
  },
  {
   "cell_type": "markdown",
   "source": [
    "## 2. Model Definition and Helper Functions\n",
    "\n",
    "Here, we define helper functions and the main model architecture. The `adapt_state_dict` function adapts the state dictionary for loading pretrained models. The `LinearClassifier` class is the main model that uses ResNet-based encoders for both RGB and tactile inputs. Pretrained weights can be loaded into this model for transfer learning.\n",
    "\n",
    "---"
   ],
   "metadata": {
    "collapsed": false
   },
   "id": "12cd198500d6116c"
  },
  {
   "cell_type": "code",
   "execution_count": 3,
   "outputs": [],
   "source": [
    "def adapt_state_dict(state_dict):\n",
    "    \"\"\"\n",
    "    Adapts the state dictionary's key names to match the expected keys of the ResNet model.\n",
    "    \"\"\"\n",
    "    adapted_state_dict = {}\n",
    "    for k, v in state_dict.items():\n",
    "        # Remove the prefixed numbers from the key names\n",
    "        new_key = '.'.join(k.split('.')[1:])\n",
    "        adapted_state_dict[new_key] = v\n",
    "    return adapted_state_dict\n",
    "\n",
    "class LinearClassifier(nn.Module):\n",
    "    def __init__(self, num_classes, checkpoint_path, nn_model='resnet18', pretrained=True):\n",
    "        super(LinearClassifier, self).__init__()\n",
    "        self.nn_model = nn_model\n",
    "        self.rgb_encoder = self.create_resnet_encoder(3)\n",
    "        self.tactile_encoder = self.create_resnet_encoder(6)\n",
    "        \n",
    "        if pretrained:\n",
    "            # Load the checkpoint\n",
    "            checkpoint = torch.load(checkpoint_path)\n",
    "            \n",
    "            # Adapt the state dictionary key names\n",
    "            adapted_rgb_state_dict = adapt_state_dict(checkpoint['state_dict_vis'])\n",
    "            adapted_tactile_state_dict = adapt_state_dict(checkpoint['state_dict_tac'])\n",
    "            \n",
    "            # Load the state dict for the visual and tactile encoders\n",
    "            self.rgb_encoder.load_state_dict(adapted_rgb_state_dict, strict=False)\n",
    "            self.tactile_encoder.load_state_dict(adapted_tactile_state_dict, strict=False)\n",
    "            \n",
    "            # Freeze the weights of the encoders\n",
    "            for param in self.rgb_encoder.parameters():\n",
    "                param.requires_grad = False\n",
    "            for param in self.tactile_encoder.parameters():\n",
    "                param.requires_grad = False\n",
    "        # Assuming the output features of both encoders are of size 512 (e.g., for ResNet-18)\n",
    "        # Adjust this if the size is different\n",
    "        self.linear_layer = nn.Linear(512 * 2, num_classes)\n",
    "    \n",
    "    def create_resnet_encoder(self, n_channels):\n",
    "        \"\"\"Create a ResNet encoder based on the specified model type.\"\"\"\n",
    "        if self.nn_model == 'resnet18':\n",
    "            resnet = models.resnet18(pretrained=False)\n",
    "        elif self.nn_model == 'resnet50':\n",
    "            resnet = models.resnet50(pretrained=False)\n",
    "        if n_channels != 3:\n",
    "            resnet.conv1 = nn.Conv2d(n_channels, 64, kernel_size=7, stride=2, padding=3, bias=False)\n",
    "        features = list(resnet.children())[:-2]  # Exclude the avgpool and fc layers\n",
    "        features.append(nn.AdaptiveAvgPool2d((1, 1)))\n",
    "        features.append(nn.Flatten())\n",
    "        return nn.Sequential(*features)\n",
    "\n",
    "    def forward(self, rgb_input, tactile_input):\n",
    "        rgb_features = self.rgb_encoder(rgb_input)\n",
    "        tactile_features = self.tactile_encoder(tactile_input)\n",
    "        \n",
    "        # Concatenate the features from both encoders\n",
    "        combined_features = torch.cat((rgb_features, tactile_features), dim=1)\n",
    "        \n",
    "        return self.linear_layer(combined_features)\n"
   ],
   "metadata": {
    "collapsed": false,
    "ExecuteTime": {
     "end_time": "2023-10-09T09:02:46.436395893Z",
     "start_time": "2023-10-09T09:02:46.435909585Z"
    }
   },
   "id": "bf497d42d748acac"
  },
  {
   "cell_type": "code",
   "execution_count": 4,
   "outputs": [
    {
     "name": "stdout",
     "output_type": "stream",
     "text": [
      "Using device: cuda\n"
     ]
    },
    {
     "name": "stderr",
     "output_type": "stream",
     "text": [
      "/home/fotis/PycharmProjects/mvitac/venv/lib/python3.10/site-packages/torchvision/models/_utils.py:208: UserWarning: The parameter 'pretrained' is deprecated since 0.13 and may be removed in the future, please use 'weights' instead.\n",
      "  warnings.warn(\n",
      "/home/fotis/PycharmProjects/mvitac/venv/lib/python3.10/site-packages/torchvision/models/_utils.py:223: UserWarning: Arguments other than a weight enum or `None` for 'weights' are deprecated since 0.13 and may be removed in the future. The current behavior is equivalent to passing `weights=None`.\n",
      "  warnings.warn(msg)\n"
     ]
    }
   ],
   "source": [
    "device = torch.device(\"cuda\" if torch.cuda.is_available() else \"cpu\")\n",
    "checkpoint_path = 'runs/Oct08_16-11-18_cpsadmin-Z790-AORUS-ELITE-AX/model_120_best_object_wise.pth'\n",
    "print(f\"Using device: {device}\")\n",
    "linear_classifier = LinearClassifier(num_classes=10, checkpoint_path=checkpoint_path, nn_model='resnet18', pretrained=True)\n",
    "linear_classifier = linear_classifier.to(device)"
   ],
   "metadata": {
    "collapsed": false,
    "ExecuteTime": {
     "end_time": "2023-10-09T09:02:47.140756680Z",
     "start_time": "2023-10-09T09:02:46.436159904Z"
    }
   },
   "id": "5672c892089ef6d0"
  },
  {
   "cell_type": "markdown",
   "source": [
    "## 3. Dataset Preparation\n",
    "This section prepares the datasets for training and evaluation. Data augmentation techniques might be applied to increase the variability in the training data. We also define the data loaders, which will provide batches of data during training and evaluation.\n",
    "\n",
    "---"
   ],
   "metadata": {
    "collapsed": false
   },
   "id": "20ccc952ae798b34"
  },
  {
   "cell_type": "code",
   "execution_count": 5,
   "outputs": [],
   "source": [
    "batch_size = 256\n",
    "num_workers = 8\n",
    "use_wandb = True\n",
    "dataset = ContrastiveLearningDataset(root_folder='calandra_objects_split_object_wise')\n",
    "train_dataset = dataset.get_dataset('calandra_label_train', 2)\n",
    "test_dataset = dataset.get_dataset('calandra_label_test', 2,)\n",
    "\n",
    "train_loader = torch.utils.data.DataLoader(train_dataset, batch_size=batch_size, shuffle=True,\n",
    "                                           num_workers=num_workers, drop_last=False, pin_memory=True)\n",
    "test_loader = torch.utils.data.DataLoader(test_dataset, batch_size=batch_size, shuffle=False,  \n",
    "                                            num_workers=num_workers, drop_last=False, pin_memory=True)"
   ],
   "metadata": {
    "collapsed": false,
    "ExecuteTime": {
     "end_time": "2023-10-09T09:02:47.537579161Z",
     "start_time": "2023-10-09T09:02:47.142233935Z"
    }
   },
   "id": "f139475a1d71dfb2"
  },
  {
   "cell_type": "markdown",
   "source": [
    "## 4. Optimizer and Loss Function\n",
    "Before training, we need to define how the model will be optimized and what loss function will measure the model's performance. Here, we initialize the Adam optimizer and the cross-entropy loss function.\n",
    "\n",
    "---"
   ],
   "metadata": {
    "collapsed": false
   },
   "id": "a17cfc93b78ffea5"
  },
  {
   "cell_type": "code",
   "execution_count": 6,
   "outputs": [],
   "source": [
    "optimizer = torch.optim.Adam(linear_classifier.parameters(), lr=1e-3, weight_decay=1e-6)\n",
    "scheduler = torch.optim.lr_scheduler.StepLR(optimizer, step_size=10, gamma=0.9)\n",
    "\n",
    "criterion = torch.nn.CrossEntropyLoss().to(device)"
   ],
   "metadata": {
    "collapsed": false,
    "ExecuteTime": {
     "end_time": "2023-10-09T09:02:47.540772472Z",
     "start_time": "2023-10-09T09:02:47.539147026Z"
    }
   },
   "id": "a793ad3eb38fe69e"
  },
  {
   "cell_type": "markdown",
   "source": [
    "## 5. Training and Evaluation Loop\n",
    "The core of the notebook. In this section, we train the model on the training data and evaluate its performance on the test data. The model's weights are updated in each epoch based on the optimizer and loss function. After training, we evaluate the model's performance on unseen data to gauge its generalization capability.\n",
    "\n",
    "---"
   ],
   "metadata": {
    "collapsed": false
   },
   "id": "3be08fccb72298b1"
  },
  {
   "cell_type": "code",
   "execution_count": 9,
   "outputs": [
    {
     "data": {
      "text/plain": "<IPython.core.display.HTML object>",
      "text/html": "Finishing last run (ID:dwqnsb19) before initializing another..."
     },
     "metadata": {},
     "output_type": "display_data"
    },
    {
     "data": {
      "text/plain": "<IPython.core.display.HTML object>",
      "text/html": "Waiting for W&B process to finish... <strong style=\"color:green\">(success).</strong>"
     },
     "metadata": {},
     "output_type": "display_data"
    },
    {
     "data": {
      "text/plain": "<IPython.core.display.HTML object>",
      "text/html": "<style>\n    table.wandb td:nth-child(1) { padding: 0 10px; text-align: left ; width: auto;} td:nth-child(2) {text-align: left ; width: 100%}\n    .wandb-row { display: flex; flex-direction: row; flex-wrap: wrap; justify-content: flex-start; width: 100% }\n    .wandb-col { display: flex; flex-direction: column; flex-basis: 100%; flex: 1; padding: 10px; }\n    </style>\n<div class=\"wandb-row\"><div class=\"wandb-col\"><h3>Run history:</h3><br/><table class=\"wandb\"><tr><td>epoch_loss</td><td>█▄▃▄▃▃▂▃▃▂▂▂▂▁▁▁▁▁▁▁</td></tr><tr><td>test_accuracy</td><td>▆▅▁▆▆▆▆▄▇▆▇▄█▇▇▆▇█▇▇</td></tr><tr><td>test_top5_accuracy</td><td>▁▁▁▁▁▁▁▁▁▁▁▁▁▁▁▁▁▁▁▁</td></tr><tr><td>train_accuracy</td><td>▁▅▄▁▆▆▆▅▅▇▅▆▅▇▇███▇█</td></tr></table><br/></div><div class=\"wandb-col\"><h3>Run summary:</h3><br/><table class=\"wandb\"><tr><td>epoch_loss</td><td>0.59983</td></tr><tr><td>test_accuracy</td><td>57.71484</td></tr><tr><td>test_top5_accuracy</td><td>100.0</td></tr><tr><td>train_accuracy</td><td>67.22219</td></tr></table><br/></div></div>"
     },
     "metadata": {},
     "output_type": "display_data"
    },
    {
     "data": {
      "text/plain": "<IPython.core.display.HTML object>",
      "text/html": " View run <strong style=\"color:#cdcd00\">resnet18_pretrained</strong> at: <a href='https://wandb.ai/ligerfotis/calandra_object_wise_linear_classifier/runs/dwqnsb19' target=\"_blank\">https://wandb.ai/ligerfotis/calandra_object_wise_linear_classifier/runs/dwqnsb19</a><br/> View job at <a href='https://wandb.ai/ligerfotis/calandra_object_wise_linear_classifier/jobs/QXJ0aWZhY3RDb2xsZWN0aW9uOjEwMzUxOTUwOQ==/version_details/v3' target=\"_blank\">https://wandb.ai/ligerfotis/calandra_object_wise_linear_classifier/jobs/QXJ0aWZhY3RDb2xsZWN0aW9uOjEwMzUxOTUwOQ==/version_details/v3</a><br/>Synced 5 W&B file(s), 0 media file(s), 0 artifact file(s) and 0 other file(s)"
     },
     "metadata": {},
     "output_type": "display_data"
    },
    {
     "data": {
      "text/plain": "<IPython.core.display.HTML object>",
      "text/html": "Find logs at: <code>./wandb/run-20231009_110248-dwqnsb19/logs</code>"
     },
     "metadata": {},
     "output_type": "display_data"
    },
    {
     "data": {
      "text/plain": "<IPython.core.display.HTML object>",
      "text/html": "Successfully finished last run (ID:dwqnsb19). Initializing new run:<br/>"
     },
     "metadata": {},
     "output_type": "display_data"
    },
    {
     "data": {
      "text/plain": "VBox(children=(Label(value='Waiting for wandb.init()...\\r'), FloatProgress(value=0.011112620666648986, max=1.0…",
      "application/vnd.jupyter.widget-view+json": {
       "version_major": 2,
       "version_minor": 0,
       "model_id": "228e0e73e02f47368586b6632f79459a"
      }
     },
     "metadata": {},
     "output_type": "display_data"
    },
    {
     "data": {
      "text/plain": "<IPython.core.display.HTML object>",
      "text/html": "wandb version 0.15.12 is available!  To upgrade, please run:\n $ pip install wandb --upgrade"
     },
     "metadata": {},
     "output_type": "display_data"
    },
    {
     "data": {
      "text/plain": "<IPython.core.display.HTML object>",
      "text/html": "Tracking run with wandb version 0.15.11"
     },
     "metadata": {},
     "output_type": "display_data"
    },
    {
     "data": {
      "text/plain": "<IPython.core.display.HTML object>",
      "text/html": "Run data is saved locally in <code>/home/fotis/PycharmProjects/mvitac/wandb/run-20231009_131552-jcqtlqyr</code>"
     },
     "metadata": {},
     "output_type": "display_data"
    },
    {
     "data": {
      "text/plain": "<IPython.core.display.HTML object>",
      "text/html": "Syncing run <strong><a href='https://wandb.ai/ligerfotis/calandra_object_wise_linear_classifier/runs/jcqtlqyr' target=\"_blank\">resnet18_pretrained</a></strong> to <a href='https://wandb.ai/ligerfotis/calandra_object_wise_linear_classifier' target=\"_blank\">Weights & Biases</a> (<a href='https://wandb.me/run' target=\"_blank\">docs</a>)<br/>"
     },
     "metadata": {},
     "output_type": "display_data"
    },
    {
     "data": {
      "text/plain": "<IPython.core.display.HTML object>",
      "text/html": " View project at <a href='https://wandb.ai/ligerfotis/calandra_object_wise_linear_classifier' target=\"_blank\">https://wandb.ai/ligerfotis/calandra_object_wise_linear_classifier</a>"
     },
     "metadata": {},
     "output_type": "display_data"
    },
    {
     "data": {
      "text/plain": "<IPython.core.display.HTML object>",
      "text/html": " View run at <a href='https://wandb.ai/ligerfotis/calandra_object_wise_linear_classifier/runs/jcqtlqyr' target=\"_blank\">https://wandb.ai/ligerfotis/calandra_object_wise_linear_classifier/runs/jcqtlqyr</a>"
     },
     "metadata": {},
     "output_type": "display_data"
    }
   ],
   "source": [
    "epochs = 100\n",
    "if use_wandb:\n",
    "    # init wandb\n",
    "    wandb.init(project=\"calandra_object_wise_linear_classifier\", name=\"resnet18_pretrained\")\n",
    "    if not os.path.exists(f\"runs/{wandb.run.name}\"):\n",
    "        os.makedirs(f\"runs/{wandb.run.name}\")\n",
    "    subfolder = wandb.run.name\n",
    "else:\n",
    "    subfolder = \"test\""
   ],
   "metadata": {
    "collapsed": false,
    "ExecuteTime": {
     "end_time": "2023-10-09T11:16:01.186271087Z",
     "start_time": "2023-10-09T11:15:52.339371753Z"
    }
   },
   "id": "3d18ca9836d6aef5"
  },
  {
   "cell_type": "code",
   "execution_count": 10,
   "outputs": [
    {
     "name": "stderr",
     "output_type": "stream",
     "text": [
      "Epoch 0: Loss: 0.60\tTrain Accuracy: 67.46: 100%|██████████| 74/74 [03:01<00:00,  2.45s/it]\n",
      "Epoch 0:\tTrain Accuracy: 67.46\tTest Accuracy: 58.94\tTest Top-5 Accuracy: 100.00: 100%|██████████| 4/4 [00:19<00:00,  4.92s/it]\n"
     ]
    },
    {
     "name": "stdout",
     "output_type": "stream",
     "text": [
      "Epoch 0:\tEpoch Loss: 0.60\tTrain Accuracy: 67.46\tTest Accuracy: 58.94\tTest Top-5 Accuracy: 100.00\n"
     ]
    },
    {
     "name": "stderr",
     "output_type": "stream",
     "text": [
      "Epoch 1: Loss: 0.60\tTrain Accuracy: 67.02: 100%|██████████| 74/74 [03:01<00:00,  2.46s/it]\n",
      "Epoch 1:\tTrain Accuracy: 67.02\tTest Accuracy: 58.84\tTest Top-5 Accuracy: 100.00: 100%|██████████| 4/4 [00:19<00:00,  4.91s/it]\n"
     ]
    },
    {
     "name": "stdout",
     "output_type": "stream",
     "text": [
      "Epoch 1:\tEpoch Loss: 0.60\tTrain Accuracy: 67.02\tTest Accuracy: 58.84\tTest Top-5 Accuracy: 100.00\n"
     ]
    },
    {
     "name": "stderr",
     "output_type": "stream",
     "text": [
      "Epoch 2: Loss: 0.60\tTrain Accuracy: 67.38: 100%|██████████| 74/74 [03:03<00:00,  2.48s/it]\n",
      "Epoch 2:\tTrain Accuracy: 67.38\tTest Accuracy: 58.94\tTest Top-5 Accuracy: 100.00: 100%|██████████| 4/4 [00:19<00:00,  4.90s/it]\n"
     ]
    },
    {
     "name": "stdout",
     "output_type": "stream",
     "text": [
      "Epoch 2:\tEpoch Loss: 0.60\tTrain Accuracy: 67.38\tTest Accuracy: 58.94\tTest Top-5 Accuracy: 100.00\n"
     ]
    },
    {
     "name": "stderr",
     "output_type": "stream",
     "text": [
      "Epoch 3: Loss: 0.60\tTrain Accuracy: 66.97: 100%|██████████| 74/74 [03:02<00:00,  2.46s/it]\n",
      "Epoch 3:\tTrain Accuracy: 66.97\tTest Accuracy: 52.93\tTest Top-5 Accuracy: 100.00: 100%|██████████| 4/4 [00:19<00:00,  4.92s/it]\n"
     ]
    },
    {
     "name": "stdout",
     "output_type": "stream",
     "text": [
      "Epoch 3:\tEpoch Loss: 0.60\tTrain Accuracy: 66.97\tTest Accuracy: 52.93\tTest Top-5 Accuracy: 100.00\n"
     ]
    },
    {
     "name": "stderr",
     "output_type": "stream",
     "text": [
      "Epoch 4: Loss: 0.60\tTrain Accuracy: 67.36: 100%|██████████| 74/74 [03:02<00:00,  2.47s/it]\n",
      "Epoch 4:\tTrain Accuracy: 67.36\tTest Accuracy: 58.15\tTest Top-5 Accuracy: 100.00: 100%|██████████| 4/4 [00:19<00:00,  4.91s/it]\n"
     ]
    },
    {
     "name": "stdout",
     "output_type": "stream",
     "text": [
      "Epoch 4:\tEpoch Loss: 0.60\tTrain Accuracy: 67.36\tTest Accuracy: 58.15\tTest Top-5 Accuracy: 100.00\n"
     ]
    },
    {
     "name": "stderr",
     "output_type": "stream",
     "text": [
      "Epoch 5: Loss: 0.60\tTrain Accuracy: 67.02: 100%|██████████| 74/74 [03:02<00:00,  2.47s/it]\n",
      "Epoch 5:\tTrain Accuracy: 67.02\tTest Accuracy: 51.36\tTest Top-5 Accuracy: 100.00: 100%|██████████| 4/4 [00:19<00:00,  4.92s/it]\n"
     ]
    },
    {
     "name": "stdout",
     "output_type": "stream",
     "text": [
      "Epoch 5:\tEpoch Loss: 0.60\tTrain Accuracy: 67.02\tTest Accuracy: 51.36\tTest Top-5 Accuracy: 100.00\n"
     ]
    },
    {
     "name": "stderr",
     "output_type": "stream",
     "text": [
      "Epoch 6: Loss: 0.61\tTrain Accuracy: 66.43: 100%|██████████| 74/74 [03:01<00:00,  2.45s/it]\n",
      "Epoch 6:\tTrain Accuracy: 66.43\tTest Accuracy: 55.01\tTest Top-5 Accuracy: 100.00: 100%|██████████| 4/4 [00:19<00:00,  4.90s/it]\n"
     ]
    },
    {
     "name": "stdout",
     "output_type": "stream",
     "text": [
      "Epoch 6:\tEpoch Loss: 0.61\tTrain Accuracy: 66.43\tTest Accuracy: 55.01\tTest Top-5 Accuracy: 100.00\n"
     ]
    },
    {
     "name": "stderr",
     "output_type": "stream",
     "text": [
      "Epoch 7: Loss: 0.60\tTrain Accuracy: 67.13: 100%|██████████| 74/74 [03:02<00:00,  2.46s/it]\n",
      "Epoch 7:\tTrain Accuracy: 67.13\tTest Accuracy: 56.88\tTest Top-5 Accuracy: 100.00: 100%|██████████| 4/4 [00:19<00:00,  4.91s/it]\n"
     ]
    },
    {
     "name": "stdout",
     "output_type": "stream",
     "text": [
      "Epoch 7:\tEpoch Loss: 0.60\tTrain Accuracy: 67.13\tTest Accuracy: 56.88\tTest Top-5 Accuracy: 100.00\n"
     ]
    },
    {
     "name": "stderr",
     "output_type": "stream",
     "text": [
      "Epoch 8: Loss: 0.60\tTrain Accuracy: 67.52: 100%|██████████| 74/74 [03:02<00:00,  2.46s/it]\n",
      "Epoch 8:\tTrain Accuracy: 67.52\tTest Accuracy: 56.53\tTest Top-5 Accuracy: 100.00: 100%|██████████| 4/4 [00:19<00:00,  4.91s/it]\n"
     ]
    },
    {
     "name": "stdout",
     "output_type": "stream",
     "text": [
      "Epoch 8:\tEpoch Loss: 0.60\tTrain Accuracy: 67.52\tTest Accuracy: 56.53\tTest Top-5 Accuracy: 100.00\n"
     ]
    },
    {
     "name": "stderr",
     "output_type": "stream",
     "text": [
      "Epoch 9: Loss: 0.60\tTrain Accuracy: 66.89: 100%|██████████| 74/74 [03:01<00:00,  2.45s/it]\n",
      "Epoch 9:\tTrain Accuracy: 66.89\tTest Accuracy: 59.02\tTest Top-5 Accuracy: 100.00: 100%|██████████| 4/4 [00:19<00:00,  4.91s/it]\n"
     ]
    },
    {
     "name": "stdout",
     "output_type": "stream",
     "text": [
      "Epoch 9:\tEpoch Loss: 0.60\tTrain Accuracy: 66.89\tTest Accuracy: 59.02\tTest Top-5 Accuracy: 100.00\n"
     ]
    },
    {
     "name": "stderr",
     "output_type": "stream",
     "text": [
      "Epoch 10: Loss: 0.60\tTrain Accuracy: 67.20: 100%|██████████| 74/74 [03:02<00:00,  2.47s/it]\n",
      "Epoch 10:\tTrain Accuracy: 67.20\tTest Accuracy: 57.74\tTest Top-5 Accuracy: 100.00: 100%|██████████| 4/4 [00:19<00:00,  4.91s/it]\n"
     ]
    },
    {
     "name": "stdout",
     "output_type": "stream",
     "text": [
      "Epoch 10:\tEpoch Loss: 0.60\tTrain Accuracy: 67.20\tTest Accuracy: 57.74\tTest Top-5 Accuracy: 100.00\n"
     ]
    },
    {
     "name": "stderr",
     "output_type": "stream",
     "text": [
      "Epoch 11: Loss: 0.60\tTrain Accuracy: 67.16: 100%|██████████| 74/74 [03:00<00:00,  2.44s/it]\n",
      "Epoch 11:\tTrain Accuracy: 67.16\tTest Accuracy: 58.97\tTest Top-5 Accuracy: 100.00: 100%|██████████| 4/4 [00:19<00:00,  4.94s/it]\n"
     ]
    },
    {
     "name": "stdout",
     "output_type": "stream",
     "text": [
      "Epoch 11:\tEpoch Loss: 0.60\tTrain Accuracy: 67.16\tTest Accuracy: 58.97\tTest Top-5 Accuracy: 100.00\n"
     ]
    },
    {
     "name": "stderr",
     "output_type": "stream",
     "text": [
      "Epoch 12: Loss: 0.60\tTrain Accuracy: 67.48: 100%|██████████| 74/74 [03:01<00:00,  2.45s/it]\n",
      "Epoch 12:\tTrain Accuracy: 67.48\tTest Accuracy: 51.92\tTest Top-5 Accuracy: 100.00: 100%|██████████| 4/4 [00:19<00:00,  4.91s/it]\n"
     ]
    },
    {
     "name": "stdout",
     "output_type": "stream",
     "text": [
      "Epoch 12:\tEpoch Loss: 0.60\tTrain Accuracy: 67.48\tTest Accuracy: 51.92\tTest Top-5 Accuracy: 100.00\n"
     ]
    },
    {
     "name": "stderr",
     "output_type": "stream",
     "text": [
      "Epoch 13: Loss: 0.59\tTrain Accuracy: 67.58: 100%|██████████| 74/74 [03:02<00:00,  2.46s/it]\n",
      "Epoch 13:\tTrain Accuracy: 67.58\tTest Accuracy: 59.29\tTest Top-5 Accuracy: 100.00: 100%|██████████| 4/4 [00:19<00:00,  4.92s/it]\n"
     ]
    },
    {
     "name": "stdout",
     "output_type": "stream",
     "text": [
      "Epoch 13:\tEpoch Loss: 0.59\tTrain Accuracy: 67.58\tTest Accuracy: 59.29\tTest Top-5 Accuracy: 100.00\n"
     ]
    },
    {
     "name": "stderr",
     "output_type": "stream",
     "text": [
      "Epoch 14: Loss: 0.59\tTrain Accuracy: 67.76: 100%|██████████| 74/74 [03:02<00:00,  2.46s/it]\n",
      "Epoch 14:\tTrain Accuracy: 67.76\tTest Accuracy: 59.11\tTest Top-5 Accuracy: 100.00: 100%|██████████| 4/4 [00:19<00:00,  4.90s/it]\n"
     ]
    },
    {
     "name": "stdout",
     "output_type": "stream",
     "text": [
      "Epoch 14:\tEpoch Loss: 0.59\tTrain Accuracy: 67.76\tTest Accuracy: 59.11\tTest Top-5 Accuracy: 100.00\n"
     ]
    },
    {
     "name": "stderr",
     "output_type": "stream",
     "text": [
      "Epoch 15: Loss: 0.59\tTrain Accuracy: 67.59: 100%|██████████| 74/74 [03:02<00:00,  2.46s/it]\n",
      "Epoch 15:\tTrain Accuracy: 67.59\tTest Accuracy: 57.86\tTest Top-5 Accuracy: 100.00: 100%|██████████| 4/4 [00:19<00:00,  4.90s/it]\n"
     ]
    },
    {
     "name": "stdout",
     "output_type": "stream",
     "text": [
      "Epoch 15:\tEpoch Loss: 0.59\tTrain Accuracy: 67.59\tTest Accuracy: 57.86\tTest Top-5 Accuracy: 100.00\n"
     ]
    },
    {
     "name": "stderr",
     "output_type": "stream",
     "text": [
      "Epoch 16: Loss: 0.59\tTrain Accuracy: 67.46: 100%|██████████| 74/74 [03:01<00:00,  2.45s/it]\n",
      "Epoch 16:\tTrain Accuracy: 67.46\tTest Accuracy: 60.00\tTest Top-5 Accuracy: 100.00: 100%|██████████| 4/4 [00:19<00:00,  4.90s/it]\n"
     ]
    },
    {
     "name": "stdout",
     "output_type": "stream",
     "text": [
      "Epoch 16:\tEpoch Loss: 0.59\tTrain Accuracy: 67.46\tTest Accuracy: 60.00\tTest Top-5 Accuracy: 100.00\n"
     ]
    },
    {
     "name": "stderr",
     "output_type": "stream",
     "text": [
      "Epoch 17: Loss: 0.60\tTrain Accuracy: 67.35: 100%|██████████| 74/74 [03:02<00:00,  2.46s/it]\n",
      "Epoch 17:\tTrain Accuracy: 67.35\tTest Accuracy: 59.48\tTest Top-5 Accuracy: 100.00: 100%|██████████| 4/4 [00:19<00:00,  4.91s/it]\n"
     ]
    },
    {
     "name": "stdout",
     "output_type": "stream",
     "text": [
      "Epoch 17:\tEpoch Loss: 0.60\tTrain Accuracy: 67.35\tTest Accuracy: 59.48\tTest Top-5 Accuracy: 100.00\n"
     ]
    },
    {
     "name": "stderr",
     "output_type": "stream",
     "text": [
      "Epoch 18: Loss: 0.59\tTrain Accuracy: 67.70: 100%|██████████| 74/74 [03:02<00:00,  2.47s/it]\n",
      "Epoch 18:\tTrain Accuracy: 67.70\tTest Accuracy: 56.98\tTest Top-5 Accuracy: 100.00: 100%|██████████| 4/4 [00:19<00:00,  4.91s/it]\n"
     ]
    },
    {
     "name": "stdout",
     "output_type": "stream",
     "text": [
      "Epoch 18:\tEpoch Loss: 0.59\tTrain Accuracy: 67.70\tTest Accuracy: 56.98\tTest Top-5 Accuracy: 100.00\n"
     ]
    },
    {
     "name": "stderr",
     "output_type": "stream",
     "text": [
      "Epoch 19: Loss: 0.60\tTrain Accuracy: 66.81: 100%|██████████| 74/74 [03:02<00:00,  2.47s/it]\n",
      "Epoch 19:\tTrain Accuracy: 66.81\tTest Accuracy: 59.71\tTest Top-5 Accuracy: 100.00: 100%|██████████| 4/4 [00:19<00:00,  4.91s/it]\n"
     ]
    },
    {
     "name": "stdout",
     "output_type": "stream",
     "text": [
      "Epoch 19:\tEpoch Loss: 0.60\tTrain Accuracy: 66.81\tTest Accuracy: 59.71\tTest Top-5 Accuracy: 100.00\n"
     ]
    },
    {
     "name": "stderr",
     "output_type": "stream",
     "text": [
      "Epoch 20: Loss: 0.59\tTrain Accuracy: 67.83: 100%|██████████| 74/74 [03:02<00:00,  2.47s/it]\n",
      "Epoch 20:\tTrain Accuracy: 67.83\tTest Accuracy: 57.66\tTest Top-5 Accuracy: 100.00: 100%|██████████| 4/4 [00:19<00:00,  4.92s/it]\n"
     ]
    },
    {
     "name": "stdout",
     "output_type": "stream",
     "text": [
      "Epoch 20:\tEpoch Loss: 0.59\tTrain Accuracy: 67.83\tTest Accuracy: 57.66\tTest Top-5 Accuracy: 100.00\n"
     ]
    },
    {
     "name": "stderr",
     "output_type": "stream",
     "text": [
      "Epoch 21: Loss: 0.59\tTrain Accuracy: 67.61: 100%|██████████| 74/74 [03:02<00:00,  2.47s/it]\n",
      "Epoch 21:\tTrain Accuracy: 67.61\tTest Accuracy: 57.66\tTest Top-5 Accuracy: 100.00: 100%|██████████| 4/4 [00:19<00:00,  4.91s/it]\n"
     ]
    },
    {
     "name": "stdout",
     "output_type": "stream",
     "text": [
      "Epoch 21:\tEpoch Loss: 0.59\tTrain Accuracy: 67.61\tTest Accuracy: 57.66\tTest Top-5 Accuracy: 100.00\n"
     ]
    },
    {
     "name": "stderr",
     "output_type": "stream",
     "text": [
      "Epoch 22: Loss: 0.59\tTrain Accuracy: 67.55: 100%|██████████| 74/74 [03:01<00:00,  2.45s/it]\n",
      "Epoch 22:\tTrain Accuracy: 67.55\tTest Accuracy: 58.13\tTest Top-5 Accuracy: 100.00: 100%|██████████| 4/4 [00:19<00:00,  4.92s/it]\n"
     ]
    },
    {
     "name": "stdout",
     "output_type": "stream",
     "text": [
      "Epoch 22:\tEpoch Loss: 0.59\tTrain Accuracy: 67.55\tTest Accuracy: 58.13\tTest Top-5 Accuracy: 100.00\n"
     ]
    },
    {
     "name": "stderr",
     "output_type": "stream",
     "text": [
      "Epoch 23: Loss: 0.59\tTrain Accuracy: 67.58: 100%|██████████| 74/74 [03:01<00:00,  2.45s/it]\n",
      "Epoch 23:\tTrain Accuracy: 67.58\tTest Accuracy: 57.17\tTest Top-5 Accuracy: 100.00: 100%|██████████| 4/4 [00:19<00:00,  4.91s/it]\n"
     ]
    },
    {
     "name": "stdout",
     "output_type": "stream",
     "text": [
      "Epoch 23:\tEpoch Loss: 0.59\tTrain Accuracy: 67.58\tTest Accuracy: 57.17\tTest Top-5 Accuracy: 100.00\n"
     ]
    },
    {
     "name": "stderr",
     "output_type": "stream",
     "text": [
      "Epoch 24: Loss: 0.59\tTrain Accuracy: 67.62: 100%|██████████| 74/74 [03:03<00:00,  2.48s/it]\n",
      "Epoch 24:\tTrain Accuracy: 67.62\tTest Accuracy: 56.63\tTest Top-5 Accuracy: 100.00: 100%|██████████| 4/4 [00:19<00:00,  4.91s/it]\n"
     ]
    },
    {
     "name": "stdout",
     "output_type": "stream",
     "text": [
      "Epoch 24:\tEpoch Loss: 0.59\tTrain Accuracy: 67.62\tTest Accuracy: 56.63\tTest Top-5 Accuracy: 100.00\n"
     ]
    },
    {
     "name": "stderr",
     "output_type": "stream",
     "text": [
      "Epoch 25: Loss: 0.59\tTrain Accuracy: 67.28: 100%|██████████| 74/74 [03:02<00:00,  2.46s/it]\n",
      "Epoch 25:\tTrain Accuracy: 67.28\tTest Accuracy: 59.44\tTest Top-5 Accuracy: 100.00: 100%|██████████| 4/4 [00:19<00:00,  4.90s/it]\n"
     ]
    },
    {
     "name": "stdout",
     "output_type": "stream",
     "text": [
      "Epoch 25:\tEpoch Loss: 0.59\tTrain Accuracy: 67.28\tTest Accuracy: 59.44\tTest Top-5 Accuracy: 100.00\n"
     ]
    },
    {
     "name": "stderr",
     "output_type": "stream",
     "text": [
      "Epoch 26: Loss: 0.59\tTrain Accuracy: 67.95: 100%|██████████| 74/74 [03:01<00:00,  2.45s/it]\n",
      "Epoch 26:\tTrain Accuracy: 67.95\tTest Accuracy: 56.18\tTest Top-5 Accuracy: 100.00: 100%|██████████| 4/4 [00:19<00:00,  4.91s/it]\n"
     ]
    },
    {
     "name": "stdout",
     "output_type": "stream",
     "text": [
      "Epoch 26:\tEpoch Loss: 0.59\tTrain Accuracy: 67.95\tTest Accuracy: 56.18\tTest Top-5 Accuracy: 100.00\n"
     ]
    },
    {
     "name": "stderr",
     "output_type": "stream",
     "text": [
      "Epoch 27: Loss: 0.59\tTrain Accuracy: 68.03: 100%|██████████| 74/74 [03:03<00:00,  2.48s/it]\n",
      "Epoch 27:\tTrain Accuracy: 68.03\tTest Accuracy: 59.49\tTest Top-5 Accuracy: 100.00: 100%|██████████| 4/4 [00:19<00:00,  4.92s/it]\n"
     ]
    },
    {
     "name": "stdout",
     "output_type": "stream",
     "text": [
      "Epoch 27:\tEpoch Loss: 0.59\tTrain Accuracy: 68.03\tTest Accuracy: 59.49\tTest Top-5 Accuracy: 100.00\n"
     ]
    },
    {
     "name": "stderr",
     "output_type": "stream",
     "text": [
      "Epoch 28: Loss: 0.60\tTrain Accuracy: 67.63: 100%|██████████| 74/74 [03:02<00:00,  2.46s/it]\n",
      "Epoch 28:\tTrain Accuracy: 67.63\tTest Accuracy: 58.05\tTest Top-5 Accuracy: 100.00: 100%|██████████| 4/4 [00:19<00:00,  4.91s/it]\n"
     ]
    },
    {
     "name": "stdout",
     "output_type": "stream",
     "text": [
      "Epoch 28:\tEpoch Loss: 0.60\tTrain Accuracy: 67.63\tTest Accuracy: 58.05\tTest Top-5 Accuracy: 100.00\n"
     ]
    },
    {
     "name": "stderr",
     "output_type": "stream",
     "text": [
      "Epoch 29: Loss: 0.59\tTrain Accuracy: 67.77: 100%|██████████| 74/74 [03:02<00:00,  2.47s/it]\n",
      "Epoch 29:\tTrain Accuracy: 67.77\tTest Accuracy: 59.52\tTest Top-5 Accuracy: 100.00: 100%|██████████| 4/4 [00:19<00:00,  4.92s/it]\n"
     ]
    },
    {
     "name": "stdout",
     "output_type": "stream",
     "text": [
      "Epoch 29:\tEpoch Loss: 0.59\tTrain Accuracy: 67.77\tTest Accuracy: 59.52\tTest Top-5 Accuracy: 100.00\n"
     ]
    },
    {
     "name": "stderr",
     "output_type": "stream",
     "text": [
      "Epoch 30: Loss: 0.59\tTrain Accuracy: 67.44: 100%|██████████| 74/74 [03:02<00:00,  2.47s/it]\n",
      "Epoch 30:\tTrain Accuracy: 67.44\tTest Accuracy: 58.52\tTest Top-5 Accuracy: 100.00: 100%|██████████| 4/4 [00:19<00:00,  4.91s/it]\n"
     ]
    },
    {
     "name": "stdout",
     "output_type": "stream",
     "text": [
      "Epoch 30:\tEpoch Loss: 0.59\tTrain Accuracy: 67.44\tTest Accuracy: 58.52\tTest Top-5 Accuracy: 100.00\n"
     ]
    },
    {
     "name": "stderr",
     "output_type": "stream",
     "text": [
      "Epoch 31: Loss: 0.59\tTrain Accuracy: 67.72: 100%|██████████| 74/74 [03:01<00:00,  2.46s/it]\n",
      "Epoch 31:\tTrain Accuracy: 67.72\tTest Accuracy: 60.69\tTest Top-5 Accuracy: 100.00: 100%|██████████| 4/4 [00:19<00:00,  4.92s/it]\n"
     ]
    },
    {
     "name": "stdout",
     "output_type": "stream",
     "text": [
      "Epoch 31:\tEpoch Loss: 0.59\tTrain Accuracy: 67.72\tTest Accuracy: 60.69\tTest Top-5 Accuracy: 100.00\n"
     ]
    },
    {
     "name": "stderr",
     "output_type": "stream",
     "text": [
      "Epoch 32: Loss: 0.59\tTrain Accuracy: 67.30: 100%|██████████| 74/74 [03:02<00:00,  2.46s/it]\n",
      "Epoch 32:\tTrain Accuracy: 67.30\tTest Accuracy: 58.67\tTest Top-5 Accuracy: 100.00: 100%|██████████| 4/4 [00:19<00:00,  4.90s/it]\n"
     ]
    },
    {
     "name": "stdout",
     "output_type": "stream",
     "text": [
      "Epoch 32:\tEpoch Loss: 0.59\tTrain Accuracy: 67.30\tTest Accuracy: 58.67\tTest Top-5 Accuracy: 100.00\n"
     ]
    },
    {
     "name": "stderr",
     "output_type": "stream",
     "text": [
      "Epoch 33: Loss: 0.59\tTrain Accuracy: 67.37: 100%|██████████| 74/74 [03:02<00:00,  2.47s/it]\n",
      "Epoch 33:\tTrain Accuracy: 67.37\tTest Accuracy: 58.13\tTest Top-5 Accuracy: 100.00: 100%|██████████| 4/4 [00:19<00:00,  4.94s/it]\n"
     ]
    },
    {
     "name": "stdout",
     "output_type": "stream",
     "text": [
      "Epoch 33:\tEpoch Loss: 0.59\tTrain Accuracy: 67.37\tTest Accuracy: 58.13\tTest Top-5 Accuracy: 100.00\n"
     ]
    },
    {
     "name": "stderr",
     "output_type": "stream",
     "text": [
      "Epoch 34: Loss: 0.59\tTrain Accuracy: 67.49: 100%|██████████| 74/74 [03:03<00:00,  2.47s/it]\n",
      "Epoch 34:\tTrain Accuracy: 67.49\tTest Accuracy: 59.09\tTest Top-5 Accuracy: 100.00: 100%|██████████| 4/4 [00:19<00:00,  4.90s/it]\n"
     ]
    },
    {
     "name": "stdout",
     "output_type": "stream",
     "text": [
      "Epoch 34:\tEpoch Loss: 0.59\tTrain Accuracy: 67.49\tTest Accuracy: 59.09\tTest Top-5 Accuracy: 100.00\n"
     ]
    },
    {
     "name": "stderr",
     "output_type": "stream",
     "text": [
      "Epoch 35: Loss: 0.59\tTrain Accuracy: 67.78: 100%|██████████| 74/74 [03:01<00:00,  2.46s/it]\n",
      "Epoch 35:\tTrain Accuracy: 67.78\tTest Accuracy: 56.80\tTest Top-5 Accuracy: 100.00: 100%|██████████| 4/4 [00:19<00:00,  4.91s/it]\n"
     ]
    },
    {
     "name": "stdout",
     "output_type": "stream",
     "text": [
      "Epoch 35:\tEpoch Loss: 0.59\tTrain Accuracy: 67.78\tTest Accuracy: 56.80\tTest Top-5 Accuracy: 100.00\n"
     ]
    },
    {
     "name": "stderr",
     "output_type": "stream",
     "text": [
      "Epoch 36: Loss: 0.59\tTrain Accuracy: 67.73: 100%|██████████| 74/74 [03:02<00:00,  2.46s/it]\n",
      "Epoch 36:\tTrain Accuracy: 67.73\tTest Accuracy: 60.22\tTest Top-5 Accuracy: 100.00: 100%|██████████| 4/4 [00:19<00:00,  4.92s/it]\n"
     ]
    },
    {
     "name": "stdout",
     "output_type": "stream",
     "text": [
      "Epoch 36:\tEpoch Loss: 0.59\tTrain Accuracy: 67.73\tTest Accuracy: 60.22\tTest Top-5 Accuracy: 100.00\n"
     ]
    },
    {
     "name": "stderr",
     "output_type": "stream",
     "text": [
      "Epoch 37: Loss: 0.59\tTrain Accuracy: 67.90: 100%|██████████| 74/74 [03:03<00:00,  2.48s/it]\n",
      "Epoch 37:\tTrain Accuracy: 67.90\tTest Accuracy: 60.00\tTest Top-5 Accuracy: 100.00: 100%|██████████| 4/4 [00:19<00:00,  4.91s/it]\n"
     ]
    },
    {
     "name": "stdout",
     "output_type": "stream",
     "text": [
      "Epoch 37:\tEpoch Loss: 0.59\tTrain Accuracy: 67.90\tTest Accuracy: 60.00\tTest Top-5 Accuracy: 100.00\n"
     ]
    },
    {
     "name": "stderr",
     "output_type": "stream",
     "text": [
      "Epoch 38: Loss: 0.59\tTrain Accuracy: 68.02: 100%|██████████| 74/74 [03:02<00:00,  2.47s/it]\n",
      "Epoch 38:\tTrain Accuracy: 68.02\tTest Accuracy: 59.52\tTest Top-5 Accuracy: 100.00: 100%|██████████| 4/4 [00:19<00:00,  4.89s/it]\n"
     ]
    },
    {
     "name": "stdout",
     "output_type": "stream",
     "text": [
      "Epoch 38:\tEpoch Loss: 0.59\tTrain Accuracy: 68.02\tTest Accuracy: 59.52\tTest Top-5 Accuracy: 100.00\n"
     ]
    },
    {
     "name": "stderr",
     "output_type": "stream",
     "text": [
      "Epoch 39: Loss: 0.59\tTrain Accuracy: 67.80: 100%|██████████| 74/74 [03:01<00:00,  2.46s/it]\n",
      "Epoch 39:\tTrain Accuracy: 67.80\tTest Accuracy: 60.53\tTest Top-5 Accuracy: 100.00: 100%|██████████| 4/4 [00:19<00:00,  4.91s/it]\n"
     ]
    },
    {
     "name": "stdout",
     "output_type": "stream",
     "text": [
      "Epoch 39:\tEpoch Loss: 0.59\tTrain Accuracy: 67.80\tTest Accuracy: 60.53\tTest Top-5 Accuracy: 100.00\n"
     ]
    },
    {
     "name": "stderr",
     "output_type": "stream",
     "text": [
      "Epoch 40: Loss: 0.59\tTrain Accuracy: 68.08: 100%|██████████| 74/74 [03:03<00:00,  2.48s/it]\n",
      "Epoch 40:\tTrain Accuracy: 68.08\tTest Accuracy: 58.71\tTest Top-5 Accuracy: 100.00: 100%|██████████| 4/4 [00:19<00:00,  4.92s/it]\n"
     ]
    },
    {
     "name": "stdout",
     "output_type": "stream",
     "text": [
      "Epoch 40:\tEpoch Loss: 0.59\tTrain Accuracy: 68.08\tTest Accuracy: 58.71\tTest Top-5 Accuracy: 100.00\n"
     ]
    },
    {
     "name": "stderr",
     "output_type": "stream",
     "text": [
      "Epoch 41: Loss: 0.59\tTrain Accuracy: 68.11: 100%|██████████| 74/74 [03:01<00:00,  2.45s/it]\n",
      "Epoch 41:\tTrain Accuracy: 68.11\tTest Accuracy: 60.15\tTest Top-5 Accuracy: 100.00: 100%|██████████| 4/4 [00:19<00:00,  4.91s/it]\n"
     ]
    },
    {
     "name": "stdout",
     "output_type": "stream",
     "text": [
      "Epoch 41:\tEpoch Loss: 0.59\tTrain Accuracy: 68.11\tTest Accuracy: 60.15\tTest Top-5 Accuracy: 100.00\n"
     ]
    },
    {
     "name": "stderr",
     "output_type": "stream",
     "text": [
      "Epoch 42: Loss: 0.59\tTrain Accuracy: 68.11: 100%|██████████| 74/74 [03:01<00:00,  2.45s/it]\n",
      "Epoch 42:\tTrain Accuracy: 68.11\tTest Accuracy: 59.85\tTest Top-5 Accuracy: 100.00: 100%|██████████| 4/4 [00:19<00:00,  4.90s/it]\n"
     ]
    },
    {
     "name": "stdout",
     "output_type": "stream",
     "text": [
      "Epoch 42:\tEpoch Loss: 0.59\tTrain Accuracy: 68.11\tTest Accuracy: 59.85\tTest Top-5 Accuracy: 100.00\n"
     ]
    },
    {
     "name": "stderr",
     "output_type": "stream",
     "text": [
      "Epoch 43: Loss: 0.59\tTrain Accuracy: 68.13: 100%|██████████| 74/74 [03:05<00:00,  2.50s/it]\n",
      "Epoch 43:\tTrain Accuracy: 68.13\tTest Accuracy: 58.34\tTest Top-5 Accuracy: 100.00: 100%|██████████| 4/4 [00:19<00:00,  4.91s/it]\n"
     ]
    },
    {
     "name": "stdout",
     "output_type": "stream",
     "text": [
      "Epoch 43:\tEpoch Loss: 0.59\tTrain Accuracy: 68.13\tTest Accuracy: 58.34\tTest Top-5 Accuracy: 100.00\n"
     ]
    },
    {
     "name": "stderr",
     "output_type": "stream",
     "text": [
      "Epoch 44: Loss: 0.59\tTrain Accuracy: 68.13: 100%|██████████| 74/74 [03:02<00:00,  2.46s/it]\n",
      "Epoch 44:\tTrain Accuracy: 68.13\tTest Accuracy: 59.68\tTest Top-5 Accuracy: 100.00: 100%|██████████| 4/4 [00:19<00:00,  4.91s/it]\n"
     ]
    },
    {
     "name": "stdout",
     "output_type": "stream",
     "text": [
      "Epoch 44:\tEpoch Loss: 0.59\tTrain Accuracy: 68.13\tTest Accuracy: 59.68\tTest Top-5 Accuracy: 100.00\n"
     ]
    },
    {
     "name": "stderr",
     "output_type": "stream",
     "text": [
      "Epoch 45: Loss: 0.59\tTrain Accuracy: 67.75: 100%|██████████| 74/74 [03:01<00:00,  2.46s/it]\n",
      "Epoch 45:\tTrain Accuracy: 67.75\tTest Accuracy: 60.10\tTest Top-5 Accuracy: 100.00: 100%|██████████| 4/4 [00:19<00:00,  4.91s/it]\n"
     ]
    },
    {
     "name": "stdout",
     "output_type": "stream",
     "text": [
      "Epoch 45:\tEpoch Loss: 0.59\tTrain Accuracy: 67.75\tTest Accuracy: 60.10\tTest Top-5 Accuracy: 100.00\n"
     ]
    },
    {
     "name": "stderr",
     "output_type": "stream",
     "text": [
      "Epoch 46: Loss: 0.58\tTrain Accuracy: 68.69: 100%|██████████| 74/74 [03:04<00:00,  2.50s/it]\n",
      "Epoch 46:\tTrain Accuracy: 68.69\tTest Accuracy: 58.34\tTest Top-5 Accuracy: 100.00: 100%|██████████| 4/4 [00:19<00:00,  4.91s/it]\n"
     ]
    },
    {
     "name": "stdout",
     "output_type": "stream",
     "text": [
      "Epoch 46:\tEpoch Loss: 0.58\tTrain Accuracy: 68.69\tTest Accuracy: 58.34\tTest Top-5 Accuracy: 100.00\n"
     ]
    },
    {
     "name": "stderr",
     "output_type": "stream",
     "text": [
      "Epoch 47: Loss: 0.59\tTrain Accuracy: 67.36: 100%|██████████| 74/74 [03:02<00:00,  2.46s/it]\n",
      "Epoch 47:\tTrain Accuracy: 67.36\tTest Accuracy: 59.69\tTest Top-5 Accuracy: 100.00: 100%|██████████| 4/4 [00:19<00:00,  4.93s/it]\n"
     ]
    },
    {
     "name": "stdout",
     "output_type": "stream",
     "text": [
      "Epoch 47:\tEpoch Loss: 0.59\tTrain Accuracy: 67.36\tTest Accuracy: 59.69\tTest Top-5 Accuracy: 100.00\n"
     ]
    },
    {
     "name": "stderr",
     "output_type": "stream",
     "text": [
      "Epoch 48: Loss: 0.59\tTrain Accuracy: 68.17: 100%|██████████| 74/74 [03:01<00:00,  2.46s/it]\n",
      "Epoch 48:\tTrain Accuracy: 68.17\tTest Accuracy: 59.78\tTest Top-5 Accuracy: 100.00: 100%|██████████| 4/4 [00:19<00:00,  4.92s/it]\n"
     ]
    },
    {
     "name": "stdout",
     "output_type": "stream",
     "text": [
      "Epoch 48:\tEpoch Loss: 0.59\tTrain Accuracy: 68.17\tTest Accuracy: 59.78\tTest Top-5 Accuracy: 100.00\n"
     ]
    },
    {
     "name": "stderr",
     "output_type": "stream",
     "text": [
      "Epoch 49: Loss: 0.59\tTrain Accuracy: 68.02: 100%|██████████| 74/74 [03:05<00:00,  2.51s/it]\n",
      "Epoch 49:\tTrain Accuracy: 68.02\tTest Accuracy: 59.08\tTest Top-5 Accuracy: 100.00: 100%|██████████| 4/4 [00:19<00:00,  4.92s/it]\n"
     ]
    },
    {
     "name": "stdout",
     "output_type": "stream",
     "text": [
      "Epoch 49:\tEpoch Loss: 0.59\tTrain Accuracy: 68.02\tTest Accuracy: 59.08\tTest Top-5 Accuracy: 100.00\n"
     ]
    },
    {
     "name": "stderr",
     "output_type": "stream",
     "text": [
      "Epoch 50: Loss: 0.59\tTrain Accuracy: 68.12: 100%|██████████| 74/74 [03:02<00:00,  2.46s/it]\n",
      "Epoch 50:\tTrain Accuracy: 68.12\tTest Accuracy: 59.75\tTest Top-5 Accuracy: 100.00: 100%|██████████| 4/4 [00:19<00:00,  4.91s/it]\n"
     ]
    },
    {
     "name": "stdout",
     "output_type": "stream",
     "text": [
      "Epoch 50:\tEpoch Loss: 0.59\tTrain Accuracy: 68.12\tTest Accuracy: 59.75\tTest Top-5 Accuracy: 100.00\n"
     ]
    },
    {
     "name": "stderr",
     "output_type": "stream",
     "text": [
      "Epoch 51: Loss: 0.58\tTrain Accuracy: 68.23: 100%|██████████| 74/74 [03:01<00:00,  2.45s/it]\n",
      "Epoch 51:\tTrain Accuracy: 68.23\tTest Accuracy: 56.18\tTest Top-5 Accuracy: 100.00: 100%|██████████| 4/4 [00:19<00:00,  4.91s/it]\n"
     ]
    },
    {
     "name": "stdout",
     "output_type": "stream",
     "text": [
      "Epoch 51:\tEpoch Loss: 0.58\tTrain Accuracy: 68.23\tTest Accuracy: 56.18\tTest Top-5 Accuracy: 100.00\n"
     ]
    },
    {
     "name": "stderr",
     "output_type": "stream",
     "text": [
      "Epoch 52: Loss: 0.60\tTrain Accuracy: 67.29: 100%|██████████| 74/74 [03:03<00:00,  2.48s/it]\n",
      "Epoch 52:\tTrain Accuracy: 67.29\tTest Accuracy: 58.52\tTest Top-5 Accuracy: 100.00: 100%|██████████| 4/4 [00:19<00:00,  4.92s/it]\n"
     ]
    },
    {
     "name": "stdout",
     "output_type": "stream",
     "text": [
      "Epoch 52:\tEpoch Loss: 0.60\tTrain Accuracy: 67.29\tTest Accuracy: 58.52\tTest Top-5 Accuracy: 100.00\n"
     ]
    },
    {
     "name": "stderr",
     "output_type": "stream",
     "text": [
      "Epoch 53: Loss: 0.58\tTrain Accuracy: 67.91: 100%|██████████| 74/74 [03:03<00:00,  2.47s/it]\n",
      "Epoch 53:\tTrain Accuracy: 67.91\tTest Accuracy: 58.42\tTest Top-5 Accuracy: 100.00: 100%|██████████| 4/4 [00:19<00:00,  4.91s/it]\n"
     ]
    },
    {
     "name": "stdout",
     "output_type": "stream",
     "text": [
      "Epoch 53:\tEpoch Loss: 0.58\tTrain Accuracy: 67.91\tTest Accuracy: 58.42\tTest Top-5 Accuracy: 100.00\n"
     ]
    },
    {
     "name": "stderr",
     "output_type": "stream",
     "text": [
      "Epoch 54: Loss: 0.58\tTrain Accuracy: 68.18: 100%|██████████| 74/74 [03:00<00:00,  2.44s/it]\n",
      "Epoch 54:\tTrain Accuracy: 68.18\tTest Accuracy: 56.71\tTest Top-5 Accuracy: 100.00: 100%|██████████| 4/4 [00:19<00:00,  4.90s/it]\n"
     ]
    },
    {
     "name": "stdout",
     "output_type": "stream",
     "text": [
      "Epoch 54:\tEpoch Loss: 0.58\tTrain Accuracy: 68.18\tTest Accuracy: 56.71\tTest Top-5 Accuracy: 100.00\n"
     ]
    },
    {
     "name": "stderr",
     "output_type": "stream",
     "text": [
      "Epoch 55: Loss: 0.59\tTrain Accuracy: 68.38: 100%|██████████| 74/74 [03:02<00:00,  2.47s/it]\n",
      "Epoch 55:\tTrain Accuracy: 68.38\tTest Accuracy: 60.12\tTest Top-5 Accuracy: 100.00: 100%|██████████| 4/4 [00:19<00:00,  4.92s/it]\n"
     ]
    },
    {
     "name": "stdout",
     "output_type": "stream",
     "text": [
      "Epoch 55:\tEpoch Loss: 0.59\tTrain Accuracy: 68.38\tTest Accuracy: 60.12\tTest Top-5 Accuracy: 100.00\n"
     ]
    },
    {
     "name": "stderr",
     "output_type": "stream",
     "text": [
      "Epoch 56: Loss: 0.59\tTrain Accuracy: 68.01: 100%|██████████| 74/74 [03:02<00:00,  2.46s/it]\n",
      "Epoch 56:\tTrain Accuracy: 68.01\tTest Accuracy: 59.83\tTest Top-5 Accuracy: 100.00: 100%|██████████| 4/4 [00:19<00:00,  4.90s/it]\n"
     ]
    },
    {
     "name": "stdout",
     "output_type": "stream",
     "text": [
      "Epoch 56:\tEpoch Loss: 0.59\tTrain Accuracy: 68.01\tTest Accuracy: 59.83\tTest Top-5 Accuracy: 100.00\n"
     ]
    },
    {
     "name": "stderr",
     "output_type": "stream",
     "text": [
      "Epoch 57: Loss: 0.59\tTrain Accuracy: 67.60: 100%|██████████| 74/74 [03:01<00:00,  2.45s/it]\n",
      "Epoch 57:\tTrain Accuracy: 67.60\tTest Accuracy: 60.76\tTest Top-5 Accuracy: 100.00: 100%|██████████| 4/4 [00:19<00:00,  4.91s/it]\n"
     ]
    },
    {
     "name": "stdout",
     "output_type": "stream",
     "text": [
      "Epoch 57:\tEpoch Loss: 0.59\tTrain Accuracy: 67.60\tTest Accuracy: 60.76\tTest Top-5 Accuracy: 100.00\n"
     ]
    },
    {
     "name": "stderr",
     "output_type": "stream",
     "text": [
      "Epoch 58: Loss: 0.59\tTrain Accuracy: 67.99: 100%|██████████| 74/74 [03:01<00:00,  2.45s/it]\n",
      "Epoch 58:\tTrain Accuracy: 67.99\tTest Accuracy: 59.41\tTest Top-5 Accuracy: 100.00: 100%|██████████| 4/4 [00:19<00:00,  4.91s/it]\n"
     ]
    },
    {
     "name": "stdout",
     "output_type": "stream",
     "text": [
      "Epoch 58:\tEpoch Loss: 0.59\tTrain Accuracy: 67.99\tTest Accuracy: 59.41\tTest Top-5 Accuracy: 100.00\n"
     ]
    },
    {
     "name": "stderr",
     "output_type": "stream",
     "text": [
      "Epoch 59: Loss: 0.59\tTrain Accuracy: 67.38: 100%|██████████| 74/74 [03:04<00:00,  2.49s/it]\n",
      "Epoch 59:\tTrain Accuracy: 67.38\tTest Accuracy: 60.42\tTest Top-5 Accuracy: 100.00: 100%|██████████| 4/4 [00:19<00:00,  4.91s/it]\n"
     ]
    },
    {
     "name": "stdout",
     "output_type": "stream",
     "text": [
      "Epoch 59:\tEpoch Loss: 0.59\tTrain Accuracy: 67.38\tTest Accuracy: 60.42\tTest Top-5 Accuracy: 100.00\n"
     ]
    },
    {
     "name": "stderr",
     "output_type": "stream",
     "text": [
      "Epoch 60: Loss: 0.59\tTrain Accuracy: 67.97: 100%|██████████| 74/74 [03:03<00:00,  2.47s/it]\n",
      "Epoch 60:\tTrain Accuracy: 67.97\tTest Accuracy: 61.40\tTest Top-5 Accuracy: 100.00: 100%|██████████| 4/4 [00:19<00:00,  4.90s/it]\n"
     ]
    },
    {
     "name": "stdout",
     "output_type": "stream",
     "text": [
      "Epoch 60:\tEpoch Loss: 0.59\tTrain Accuracy: 67.97\tTest Accuracy: 61.40\tTest Top-5 Accuracy: 100.00\n"
     ]
    },
    {
     "name": "stderr",
     "output_type": "stream",
     "text": [
      "Epoch 61: Loss: 0.59\tTrain Accuracy: 68.43: 100%|██████████| 74/74 [03:02<00:00,  2.46s/it]\n",
      "Epoch 61:\tTrain Accuracy: 68.43\tTest Accuracy: 60.55\tTest Top-5 Accuracy: 100.00: 100%|██████████| 4/4 [00:19<00:00,  4.91s/it]\n"
     ]
    },
    {
     "name": "stdout",
     "output_type": "stream",
     "text": [
      "Epoch 61:\tEpoch Loss: 0.59\tTrain Accuracy: 68.43\tTest Accuracy: 60.55\tTest Top-5 Accuracy: 100.00\n"
     ]
    },
    {
     "name": "stderr",
     "output_type": "stream",
     "text": [
      "Epoch 62: Loss: 0.59\tTrain Accuracy: 68.06: 100%|██████████| 74/74 [03:04<00:00,  2.50s/it]\n",
      "Epoch 62:\tTrain Accuracy: 68.06\tTest Accuracy: 58.73\tTest Top-5 Accuracy: 100.00: 100%|██████████| 4/4 [00:19<00:00,  4.89s/it]\n"
     ]
    },
    {
     "name": "stdout",
     "output_type": "stream",
     "text": [
      "Epoch 62:\tEpoch Loss: 0.59\tTrain Accuracy: 68.06\tTest Accuracy: 58.73\tTest Top-5 Accuracy: 100.00\n"
     ]
    },
    {
     "name": "stderr",
     "output_type": "stream",
     "text": [
      "Epoch 63: Loss: 0.59\tTrain Accuracy: 67.93: 100%|██████████| 74/74 [03:02<00:00,  2.47s/it]\n",
      "Epoch 63:\tTrain Accuracy: 67.93\tTest Accuracy: 59.31\tTest Top-5 Accuracy: 100.00: 100%|██████████| 4/4 [00:19<00:00,  4.89s/it]\n"
     ]
    },
    {
     "name": "stdout",
     "output_type": "stream",
     "text": [
      "Epoch 63:\tEpoch Loss: 0.59\tTrain Accuracy: 67.93\tTest Accuracy: 59.31\tTest Top-5 Accuracy: 100.00\n"
     ]
    },
    {
     "name": "stderr",
     "output_type": "stream",
     "text": [
      "Epoch 64: Loss: 0.59\tTrain Accuracy: 68.08: 100%|██████████| 74/74 [03:02<00:00,  2.46s/it]\n",
      "Epoch 64:\tTrain Accuracy: 68.08\tTest Accuracy: 60.49\tTest Top-5 Accuracy: 100.00: 100%|██████████| 4/4 [00:19<00:00,  4.91s/it]\n"
     ]
    },
    {
     "name": "stdout",
     "output_type": "stream",
     "text": [
      "Epoch 64:\tEpoch Loss: 0.59\tTrain Accuracy: 68.08\tTest Accuracy: 60.49\tTest Top-5 Accuracy: 100.00\n"
     ]
    },
    {
     "name": "stderr",
     "output_type": "stream",
     "text": [
      "Epoch 65: Loss: 0.58\tTrain Accuracy: 68.10: 100%|██████████| 74/74 [03:05<00:00,  2.50s/it]\n",
      "Epoch 65:\tTrain Accuracy: 68.10\tTest Accuracy: 61.23\tTest Top-5 Accuracy: 100.00: 100%|██████████| 4/4 [00:19<00:00,  4.92s/it]\n"
     ]
    },
    {
     "name": "stdout",
     "output_type": "stream",
     "text": [
      "Epoch 65:\tEpoch Loss: 0.58\tTrain Accuracy: 68.10\tTest Accuracy: 61.23\tTest Top-5 Accuracy: 100.00\n"
     ]
    },
    {
     "name": "stderr",
     "output_type": "stream",
     "text": [
      "Epoch 66: Loss: 0.58\tTrain Accuracy: 68.62: 100%|██████████| 74/74 [03:02<00:00,  2.46s/it]\n",
      "Epoch 66:\tTrain Accuracy: 68.62\tTest Accuracy: 59.45\tTest Top-5 Accuracy: 100.00: 100%|██████████| 4/4 [00:19<00:00,  4.90s/it]\n"
     ]
    },
    {
     "name": "stdout",
     "output_type": "stream",
     "text": [
      "Epoch 66:\tEpoch Loss: 0.58\tTrain Accuracy: 68.62\tTest Accuracy: 59.45\tTest Top-5 Accuracy: 100.00\n"
     ]
    },
    {
     "name": "stderr",
     "output_type": "stream",
     "text": [
      "Epoch 67: Loss: 0.58\tTrain Accuracy: 68.69: 100%|██████████| 74/74 [03:01<00:00,  2.46s/it]\n",
      "Epoch 67:\tTrain Accuracy: 68.69\tTest Accuracy: 61.31\tTest Top-5 Accuracy: 100.00: 100%|██████████| 4/4 [00:19<00:00,  4.91s/it]\n"
     ]
    },
    {
     "name": "stdout",
     "output_type": "stream",
     "text": [
      "Epoch 67:\tEpoch Loss: 0.58\tTrain Accuracy: 68.69\tTest Accuracy: 61.31\tTest Top-5 Accuracy: 100.00\n"
     ]
    },
    {
     "name": "stderr",
     "output_type": "stream",
     "text": [
      "Epoch 68: Loss: 0.58\tTrain Accuracy: 67.82: 100%|██████████| 74/74 [03:04<00:00,  2.49s/it]\n",
      "Epoch 68:\tTrain Accuracy: 67.82\tTest Accuracy: 60.37\tTest Top-5 Accuracy: 100.00: 100%|██████████| 4/4 [00:19<00:00,  4.90s/it]\n"
     ]
    },
    {
     "name": "stdout",
     "output_type": "stream",
     "text": [
      "Epoch 68:\tEpoch Loss: 0.58\tTrain Accuracy: 67.82\tTest Accuracy: 60.37\tTest Top-5 Accuracy: 100.00\n"
     ]
    },
    {
     "name": "stderr",
     "output_type": "stream",
     "text": [
      "Epoch 69: Loss: 0.59\tTrain Accuracy: 67.90: 100%|██████████| 74/74 [03:02<00:00,  2.47s/it]\n",
      "Epoch 69:\tTrain Accuracy: 67.90\tTest Accuracy: 60.69\tTest Top-5 Accuracy: 100.00: 100%|██████████| 4/4 [00:19<00:00,  4.91s/it]\n"
     ]
    },
    {
     "name": "stdout",
     "output_type": "stream",
     "text": [
      "Epoch 69:\tEpoch Loss: 0.59\tTrain Accuracy: 67.90\tTest Accuracy: 60.69\tTest Top-5 Accuracy: 100.00\n"
     ]
    },
    {
     "name": "stderr",
     "output_type": "stream",
     "text": [
      "Epoch 70: Loss: 0.58\tTrain Accuracy: 68.43: 100%|██████████| 74/74 [03:01<00:00,  2.46s/it]\n",
      "Epoch 70:\tTrain Accuracy: 68.43\tTest Accuracy: 60.08\tTest Top-5 Accuracy: 100.00: 100%|██████████| 4/4 [00:19<00:00,  4.92s/it]\n"
     ]
    },
    {
     "name": "stdout",
     "output_type": "stream",
     "text": [
      "Epoch 70:\tEpoch Loss: 0.58\tTrain Accuracy: 68.43\tTest Accuracy: 60.08\tTest Top-5 Accuracy: 100.00\n"
     ]
    },
    {
     "name": "stderr",
     "output_type": "stream",
     "text": [
      "Epoch 71: Loss: 0.59\tTrain Accuracy: 67.30: 100%|██████████| 74/74 [03:01<00:00,  2.45s/it]\n",
      "Epoch 71:\tTrain Accuracy: 67.30\tTest Accuracy: 60.30\tTest Top-5 Accuracy: 100.00: 100%|██████████| 4/4 [00:19<00:00,  4.91s/it]\n"
     ]
    },
    {
     "name": "stdout",
     "output_type": "stream",
     "text": [
      "Epoch 71:\tEpoch Loss: 0.59\tTrain Accuracy: 67.30\tTest Accuracy: 60.30\tTest Top-5 Accuracy: 100.00\n"
     ]
    },
    {
     "name": "stderr",
     "output_type": "stream",
     "text": [
      "Epoch 72: Loss: 0.58\tTrain Accuracy: 67.82: 100%|██████████| 74/74 [03:04<00:00,  2.49s/it]\n",
      "Epoch 72:\tTrain Accuracy: 67.82\tTest Accuracy: 60.28\tTest Top-5 Accuracy: 100.00: 100%|██████████| 4/4 [00:19<00:00,  4.91s/it]\n"
     ]
    },
    {
     "name": "stdout",
     "output_type": "stream",
     "text": [
      "Epoch 72:\tEpoch Loss: 0.58\tTrain Accuracy: 67.82\tTest Accuracy: 60.28\tTest Top-5 Accuracy: 100.00\n"
     ]
    },
    {
     "name": "stderr",
     "output_type": "stream",
     "text": [
      "Epoch 73: Loss: 0.59\tTrain Accuracy: 67.82: 100%|██████████| 74/74 [03:01<00:00,  2.45s/it]\n",
      "Epoch 73:\tTrain Accuracy: 67.82\tTest Accuracy: 60.37\tTest Top-5 Accuracy: 100.00: 100%|██████████| 4/4 [00:19<00:00,  4.91s/it]\n"
     ]
    },
    {
     "name": "stdout",
     "output_type": "stream",
     "text": [
      "Epoch 73:\tEpoch Loss: 0.59\tTrain Accuracy: 67.82\tTest Accuracy: 60.37\tTest Top-5 Accuracy: 100.00\n"
     ]
    },
    {
     "name": "stderr",
     "output_type": "stream",
     "text": [
      "Epoch 74: Loss: 0.58\tTrain Accuracy: 68.39: 100%|██████████| 74/74 [03:02<00:00,  2.47s/it]\n",
      "Epoch 74:\tTrain Accuracy: 68.39\tTest Accuracy: 60.30\tTest Top-5 Accuracy: 100.00: 100%|██████████| 4/4 [00:19<00:00,  4.90s/it]\n"
     ]
    },
    {
     "name": "stdout",
     "output_type": "stream",
     "text": [
      "Epoch 74:\tEpoch Loss: 0.58\tTrain Accuracy: 68.39\tTest Accuracy: 60.30\tTest Top-5 Accuracy: 100.00\n"
     ]
    },
    {
     "name": "stderr",
     "output_type": "stream",
     "text": [
      "Epoch 75: Loss: 0.58\tTrain Accuracy: 68.25: 100%|██████████| 74/74 [03:04<00:00,  2.49s/it]\n",
      "Epoch 75:\tTrain Accuracy: 68.25\tTest Accuracy: 58.89\tTest Top-5 Accuracy: 100.00: 100%|██████████| 4/4 [00:19<00:00,  4.92s/it]\n"
     ]
    },
    {
     "name": "stdout",
     "output_type": "stream",
     "text": [
      "Epoch 75:\tEpoch Loss: 0.58\tTrain Accuracy: 68.25\tTest Accuracy: 58.89\tTest Top-5 Accuracy: 100.00\n"
     ]
    },
    {
     "name": "stderr",
     "output_type": "stream",
     "text": [
      "Epoch 76: Loss: 0.58\tTrain Accuracy: 68.25: 100%|██████████| 74/74 [03:01<00:00,  2.46s/it]\n",
      "Epoch 76:\tTrain Accuracy: 68.25\tTest Accuracy: 57.76\tTest Top-5 Accuracy: 100.00: 100%|██████████| 4/4 [00:19<00:00,  4.92s/it]\n"
     ]
    },
    {
     "name": "stdout",
     "output_type": "stream",
     "text": [
      "Epoch 76:\tEpoch Loss: 0.58\tTrain Accuracy: 68.25\tTest Accuracy: 57.76\tTest Top-5 Accuracy: 100.00\n"
     ]
    },
    {
     "name": "stderr",
     "output_type": "stream",
     "text": [
      "Epoch 77: Loss: 0.58\tTrain Accuracy: 67.92: 100%|██████████| 74/74 [03:03<00:00,  2.48s/it]\n",
      "Epoch 77:\tTrain Accuracy: 67.92\tTest Accuracy: 58.42\tTest Top-5 Accuracy: 100.00: 100%|██████████| 4/4 [00:19<00:00,  4.92s/it]\n"
     ]
    },
    {
     "name": "stdout",
     "output_type": "stream",
     "text": [
      "Epoch 77:\tEpoch Loss: 0.58\tTrain Accuracy: 67.92\tTest Accuracy: 58.42\tTest Top-5 Accuracy: 100.00\n"
     ]
    },
    {
     "name": "stderr",
     "output_type": "stream",
     "text": [
      "Epoch 78: Loss: 0.59\tTrain Accuracy: 67.83: 100%|██████████| 74/74 [03:05<00:00,  2.51s/it]\n",
      "Epoch 78:\tTrain Accuracy: 67.83\tTest Accuracy: 60.05\tTest Top-5 Accuracy: 100.00: 100%|██████████| 4/4 [00:19<00:00,  4.93s/it]\n"
     ]
    },
    {
     "name": "stdout",
     "output_type": "stream",
     "text": [
      "Epoch 78:\tEpoch Loss: 0.59\tTrain Accuracy: 67.83\tTest Accuracy: 60.05\tTest Top-5 Accuracy: 100.00\n"
     ]
    },
    {
     "name": "stderr",
     "output_type": "stream",
     "text": [
      "Epoch 79: Loss: 0.58\tTrain Accuracy: 68.15: 100%|██████████| 74/74 [03:02<00:00,  2.46s/it]\n",
      "Epoch 79:\tTrain Accuracy: 68.15\tTest Accuracy: 58.34\tTest Top-5 Accuracy: 100.00: 100%|██████████| 4/4 [00:19<00:00,  4.90s/it]\n"
     ]
    },
    {
     "name": "stdout",
     "output_type": "stream",
     "text": [
      "Epoch 79:\tEpoch Loss: 0.58\tTrain Accuracy: 68.15\tTest Accuracy: 58.34\tTest Top-5 Accuracy: 100.00\n"
     ]
    },
    {
     "name": "stderr",
     "output_type": "stream",
     "text": [
      "Epoch 80: Loss: 0.59\tTrain Accuracy: 67.96: 100%|██████████| 74/74 [03:02<00:00,  2.46s/it]\n",
      "Epoch 80:\tTrain Accuracy: 67.96\tTest Accuracy: 60.10\tTest Top-5 Accuracy: 100.00: 100%|██████████| 4/4 [00:19<00:00,  4.94s/it]\n"
     ]
    },
    {
     "name": "stdout",
     "output_type": "stream",
     "text": [
      "Epoch 80:\tEpoch Loss: 0.59\tTrain Accuracy: 67.96\tTest Accuracy: 60.10\tTest Top-5 Accuracy: 100.00\n"
     ]
    },
    {
     "name": "stderr",
     "output_type": "stream",
     "text": [
      "Epoch 81: Loss: 0.58\tTrain Accuracy: 68.60: 100%|██████████| 74/74 [03:04<00:00,  2.50s/it]\n",
      "Epoch 81:\tTrain Accuracy: 68.60\tTest Accuracy: 59.75\tTest Top-5 Accuracy: 100.00: 100%|██████████| 4/4 [00:19<00:00,  4.90s/it]\n"
     ]
    },
    {
     "name": "stdout",
     "output_type": "stream",
     "text": [
      "Epoch 81:\tEpoch Loss: 0.58\tTrain Accuracy: 68.60\tTest Accuracy: 59.75\tTest Top-5 Accuracy: 100.00\n"
     ]
    },
    {
     "name": "stderr",
     "output_type": "stream",
     "text": [
      "Epoch 82: Loss: 0.58\tTrain Accuracy: 67.97: 100%|██████████| 74/74 [03:02<00:00,  2.47s/it]\n",
      "Epoch 82:\tTrain Accuracy: 67.97\tTest Accuracy: 60.69\tTest Top-5 Accuracy: 100.00: 100%|██████████| 4/4 [00:19<00:00,  4.91s/it]\n"
     ]
    },
    {
     "name": "stdout",
     "output_type": "stream",
     "text": [
      "Epoch 82:\tEpoch Loss: 0.58\tTrain Accuracy: 67.97\tTest Accuracy: 60.69\tTest Top-5 Accuracy: 100.00\n"
     ]
    },
    {
     "name": "stderr",
     "output_type": "stream",
     "text": [
      "Epoch 83: Loss: 0.59\tTrain Accuracy: 68.08: 100%|██████████| 74/74 [03:02<00:00,  2.46s/it]\n",
      "Epoch 83:\tTrain Accuracy: 68.08\tTest Accuracy: 59.85\tTest Top-5 Accuracy: 100.00: 100%|██████████| 4/4 [00:19<00:00,  4.92s/it]\n"
     ]
    },
    {
     "name": "stdout",
     "output_type": "stream",
     "text": [
      "Epoch 83:\tEpoch Loss: 0.59\tTrain Accuracy: 68.08\tTest Accuracy: 59.85\tTest Top-5 Accuracy: 100.00\n"
     ]
    },
    {
     "name": "stderr",
     "output_type": "stream",
     "text": [
      "Epoch 84: Loss: 0.58\tTrain Accuracy: 68.67: 100%|██████████| 74/74 [03:03<00:00,  2.47s/it]\n",
      "Epoch 84:\tTrain Accuracy: 68.67\tTest Accuracy: 59.33\tTest Top-5 Accuracy: 100.00: 100%|██████████| 4/4 [00:19<00:00,  4.91s/it]\n"
     ]
    },
    {
     "name": "stdout",
     "output_type": "stream",
     "text": [
      "Epoch 84:\tEpoch Loss: 0.58\tTrain Accuracy: 68.67\tTest Accuracy: 59.33\tTest Top-5 Accuracy: 100.00\n"
     ]
    },
    {
     "name": "stderr",
     "output_type": "stream",
     "text": [
      "Epoch 85: Loss: 0.58\tTrain Accuracy: 68.45: 100%|██████████| 74/74 [03:01<00:00,  2.45s/it]\n",
      "Epoch 85:\tTrain Accuracy: 68.45\tTest Accuracy: 60.96\tTest Top-5 Accuracy: 100.00: 100%|██████████| 4/4 [00:19<00:00,  4.91s/it]\n"
     ]
    },
    {
     "name": "stdout",
     "output_type": "stream",
     "text": [
      "Epoch 85:\tEpoch Loss: 0.58\tTrain Accuracy: 68.45\tTest Accuracy: 60.96\tTest Top-5 Accuracy: 100.00\n"
     ]
    },
    {
     "name": "stderr",
     "output_type": "stream",
     "text": [
      "Epoch 86: Loss: 0.58\tTrain Accuracy: 68.38: 100%|██████████| 74/74 [03:02<00:00,  2.46s/it]\n",
      "Epoch 86:\tTrain Accuracy: 68.38\tTest Accuracy: 59.14\tTest Top-5 Accuracy: 100.00: 100%|██████████| 4/4 [00:19<00:00,  4.91s/it]\n"
     ]
    },
    {
     "name": "stdout",
     "output_type": "stream",
     "text": [
      "Epoch 86:\tEpoch Loss: 0.58\tTrain Accuracy: 68.38\tTest Accuracy: 59.14\tTest Top-5 Accuracy: 100.00\n"
     ]
    },
    {
     "name": "stderr",
     "output_type": "stream",
     "text": [
      "Epoch 87: Loss: 0.58\tTrain Accuracy: 68.26: 100%|██████████| 74/74 [03:03<00:00,  2.48s/it]\n",
      "Epoch 87:\tTrain Accuracy: 68.26\tTest Accuracy: 61.04\tTest Top-5 Accuracy: 100.00: 100%|██████████| 4/4 [00:19<00:00,  4.91s/it]\n"
     ]
    },
    {
     "name": "stdout",
     "output_type": "stream",
     "text": [
      "Epoch 87:\tEpoch Loss: 0.58\tTrain Accuracy: 68.26\tTest Accuracy: 61.04\tTest Top-5 Accuracy: 100.00\n"
     ]
    },
    {
     "name": "stderr",
     "output_type": "stream",
     "text": [
      "Epoch 88: Loss: 0.58\tTrain Accuracy: 68.12: 100%|██████████| 74/74 [03:02<00:00,  2.46s/it]\n",
      "Epoch 88:\tTrain Accuracy: 68.12\tTest Accuracy: 59.41\tTest Top-5 Accuracy: 100.00: 100%|██████████| 4/4 [00:19<00:00,  4.91s/it]\n"
     ]
    },
    {
     "name": "stdout",
     "output_type": "stream",
     "text": [
      "Epoch 88:\tEpoch Loss: 0.58\tTrain Accuracy: 68.12\tTest Accuracy: 59.41\tTest Top-5 Accuracy: 100.00\n"
     ]
    },
    {
     "name": "stderr",
     "output_type": "stream",
     "text": [
      "Epoch 89: Loss: 0.58\tTrain Accuracy: 67.99: 100%|██████████| 74/74 [03:01<00:00,  2.46s/it]\n",
      "Epoch 89:\tTrain Accuracy: 67.99\tTest Accuracy: 57.00\tTest Top-5 Accuracy: 100.00: 100%|██████████| 4/4 [00:19<00:00,  4.92s/it]\n"
     ]
    },
    {
     "name": "stdout",
     "output_type": "stream",
     "text": [
      "Epoch 89:\tEpoch Loss: 0.58\tTrain Accuracy: 67.99\tTest Accuracy: 57.00\tTest Top-5 Accuracy: 100.00\n"
     ]
    },
    {
     "name": "stderr",
     "output_type": "stream",
     "text": [
      "Epoch 90: Loss: 0.58\tTrain Accuracy: 68.22: 100%|██████████| 74/74 [03:02<00:00,  2.46s/it]\n",
      "Epoch 90:\tTrain Accuracy: 68.22\tTest Accuracy: 59.33\tTest Top-5 Accuracy: 100.00: 100%|██████████| 4/4 [00:19<00:00,  4.93s/it]\n"
     ]
    },
    {
     "name": "stdout",
     "output_type": "stream",
     "text": [
      "Epoch 90:\tEpoch Loss: 0.58\tTrain Accuracy: 68.22\tTest Accuracy: 59.33\tTest Top-5 Accuracy: 100.00\n"
     ]
    },
    {
     "name": "stderr",
     "output_type": "stream",
     "text": [
      "Epoch 91: Loss: 0.58\tTrain Accuracy: 68.52: 100%|██████████| 74/74 [03:02<00:00,  2.47s/it]\n",
      "Epoch 91:\tTrain Accuracy: 68.52\tTest Accuracy: 59.78\tTest Top-5 Accuracy: 100.00: 100%|██████████| 4/4 [00:19<00:00,  4.92s/it]\n"
     ]
    },
    {
     "name": "stdout",
     "output_type": "stream",
     "text": [
      "Epoch 91:\tEpoch Loss: 0.58\tTrain Accuracy: 68.52\tTest Accuracy: 59.78\tTest Top-5 Accuracy: 100.00\n"
     ]
    },
    {
     "name": "stderr",
     "output_type": "stream",
     "text": [
      "Epoch 92: Loss: 0.58\tTrain Accuracy: 68.69: 100%|██████████| 74/74 [03:01<00:00,  2.45s/it]\n",
      "Epoch 92:\tTrain Accuracy: 68.69\tTest Accuracy: 58.98\tTest Top-5 Accuracy: 100.00: 100%|██████████| 4/4 [00:19<00:00,  4.93s/it]\n"
     ]
    },
    {
     "name": "stdout",
     "output_type": "stream",
     "text": [
      "Epoch 92:\tEpoch Loss: 0.58\tTrain Accuracy: 68.69\tTest Accuracy: 58.98\tTest Top-5 Accuracy: 100.00\n"
     ]
    },
    {
     "name": "stderr",
     "output_type": "stream",
     "text": [
      "Epoch 93: Loss: 0.58\tTrain Accuracy: 68.29: 100%|██████████| 74/74 [03:02<00:00,  2.46s/it]\n",
      "Epoch 93:\tTrain Accuracy: 68.29\tTest Accuracy: 57.27\tTest Top-5 Accuracy: 100.00: 100%|██████████| 4/4 [00:19<00:00,  4.91s/it]\n"
     ]
    },
    {
     "name": "stdout",
     "output_type": "stream",
     "text": [
      "Epoch 93:\tEpoch Loss: 0.58\tTrain Accuracy: 68.29\tTest Accuracy: 57.27\tTest Top-5 Accuracy: 100.00\n"
     ]
    },
    {
     "name": "stderr",
     "output_type": "stream",
     "text": [
      "Epoch 94: Loss: 0.58\tTrain Accuracy: 68.59: 100%|██████████| 74/74 [03:05<00:00,  2.51s/it]\n",
      "Epoch 94:\tTrain Accuracy: 68.59\tTest Accuracy: 57.95\tTest Top-5 Accuracy: 100.00: 100%|██████████| 4/4 [00:19<00:00,  4.91s/it]\n"
     ]
    },
    {
     "name": "stdout",
     "output_type": "stream",
     "text": [
      "Epoch 94:\tEpoch Loss: 0.58\tTrain Accuracy: 68.59\tTest Accuracy: 57.95\tTest Top-5 Accuracy: 100.00\n"
     ]
    },
    {
     "name": "stderr",
     "output_type": "stream",
     "text": [
      "Epoch 95: Loss: 0.59\tTrain Accuracy: 67.79: 100%|██████████| 74/74 [03:01<00:00,  2.46s/it]\n",
      "Epoch 95:\tTrain Accuracy: 67.79\tTest Accuracy: 59.62\tTest Top-5 Accuracy: 100.00: 100%|██████████| 4/4 [00:19<00:00,  4.90s/it]\n"
     ]
    },
    {
     "name": "stdout",
     "output_type": "stream",
     "text": [
      "Epoch 95:\tEpoch Loss: 0.59\tTrain Accuracy: 67.79\tTest Accuracy: 59.62\tTest Top-5 Accuracy: 100.00\n"
     ]
    },
    {
     "name": "stderr",
     "output_type": "stream",
     "text": [
      "Epoch 96: Loss: 0.58\tTrain Accuracy: 68.43: 100%|██████████| 74/74 [03:01<00:00,  2.46s/it]\n",
      "Epoch 96:\tTrain Accuracy: 68.43\tTest Accuracy: 60.37\tTest Top-5 Accuracy: 100.00: 100%|██████████| 4/4 [00:19<00:00,  4.92s/it]\n"
     ]
    },
    {
     "name": "stdout",
     "output_type": "stream",
     "text": [
      "Epoch 96:\tEpoch Loss: 0.58\tTrain Accuracy: 68.43\tTest Accuracy: 60.37\tTest Top-5 Accuracy: 100.00\n"
     ]
    },
    {
     "name": "stderr",
     "output_type": "stream",
     "text": [
      "Epoch 97: Loss: 0.58\tTrain Accuracy: 68.31: 100%|██████████| 74/74 [03:04<00:00,  2.49s/it]\n",
      "Epoch 97:\tTrain Accuracy: 68.31\tTest Accuracy: 58.52\tTest Top-5 Accuracy: 100.00: 100%|██████████| 4/4 [00:19<00:00,  4.92s/it]\n"
     ]
    },
    {
     "name": "stdout",
     "output_type": "stream",
     "text": [
      "Epoch 97:\tEpoch Loss: 0.58\tTrain Accuracy: 68.31\tTest Accuracy: 58.52\tTest Top-5 Accuracy: 100.00\n"
     ]
    },
    {
     "name": "stderr",
     "output_type": "stream",
     "text": [
      "Epoch 98: Loss: 0.58\tTrain Accuracy: 68.47: 100%|██████████| 74/74 [03:02<00:00,  2.46s/it]\n",
      "Epoch 98:\tTrain Accuracy: 68.47\tTest Accuracy: 60.06\tTest Top-5 Accuracy: 100.00: 100%|██████████| 4/4 [00:19<00:00,  4.91s/it]\n"
     ]
    },
    {
     "name": "stdout",
     "output_type": "stream",
     "text": [
      "Epoch 98:\tEpoch Loss: 0.58\tTrain Accuracy: 68.47\tTest Accuracy: 60.06\tTest Top-5 Accuracy: 100.00\n"
     ]
    },
    {
     "name": "stderr",
     "output_type": "stream",
     "text": [
      "Epoch 99: Loss: 0.58\tTrain Accuracy: 68.57: 100%|██████████| 74/74 [03:01<00:00,  2.46s/it]\n",
      "Epoch 99:\tTrain Accuracy: 68.57\tTest Accuracy: 58.42\tTest Top-5 Accuracy: 100.00: 100%|██████████| 4/4 [00:19<00:00,  4.91s/it]"
     ]
    },
    {
     "name": "stdout",
     "output_type": "stream",
     "text": [
      "Epoch 99:\tEpoch Loss: 0.58\tTrain Accuracy: 68.57\tTest Accuracy: 58.42\tTest Top-5 Accuracy: 100.00\n"
     ]
    },
    {
     "name": "stderr",
     "output_type": "stream",
     "text": [
      "\n"
     ]
    }
   ],
   "source": [
    "best_accuracy = 0\n",
    "for epoch in range(epochs):\n",
    "    top1_train_accuracy = 0\n",
    "    epoch_loss = 0\n",
    "    linear_classifier.train()\n",
    "    pbar = tqdm(train_loader)\n",
    "    for counter, data in enumerate(pbar):\n",
    "        rgb_image_q, _, stacked_gelsight_images_q, _, label = data\n",
    "        \n",
    "        rgb_image_q = rgb_image_q.to(device)\n",
    "        stacked_gelsight_images_q = stacked_gelsight_images_q.to(device)\n",
    "        label = label.to(device)\n",
    "        \n",
    "        logits = linear_classifier(rgb_image_q, stacked_gelsight_images_q)\n",
    "        loss = criterion(logits, label)\n",
    "        epoch_loss += loss.item()\n",
    "        top1 = accuracy(logits, label, topk=(1,))\n",
    "        top1_train_accuracy += top1[0]\n",
    "        \n",
    "        optimizer.zero_grad()\n",
    "        loss.backward()\n",
    "        optimizer.step()\n",
    "        # update the progress bar message\n",
    "        pbar.set_description(f\"Epoch {epoch}: Loss: {epoch_loss / (counter + 1):.2f}\\tTrain Accuracy: {top1_train_accuracy.item() / (counter + 1):.2f}\")\n",
    "    scheduler.step()\n",
    "    epoch_loss /= (len(train_loader))\n",
    "    top1_train_accuracy /= (len(train_loader))\n",
    "    # # save the model\n",
    "    # if top1_train_accuracy > best_train_accuracy:\n",
    "    #     torch.save(linear_classifier.state_dict(), f\"runs/{subfolder}/linear_classifier_{epoch}_best_object_wise.pth\")\n",
    "    #     best_train_accuracy = top1_train_accuracy\n",
    "        \n",
    "    top1_accuracy = 0\n",
    "    top5_accuracy = 0\n",
    "    linear_classifier.eval()\n",
    "    pbar = tqdm(test_loader)\n",
    "    with torch.no_grad():\n",
    "        for counter, data in enumerate(pbar):\n",
    "            rgb_image_q, _, stacked_gelsight_images_q, _, label = data\n",
    "            \n",
    "            rgb_image_q = rgb_image_q.to(device)\n",
    "            stacked_gelsight_images_q = stacked_gelsight_images_q.to(device)\n",
    "            label = label.to(device)\n",
    "            \n",
    "            logits = linear_classifier(rgb_image_q, stacked_gelsight_images_q)\n",
    "            \n",
    "            top1, top5 = accuracy(logits, label, topk=(1,5))\n",
    "            top1_accuracy += top1[0]\n",
    "            top5_accuracy += top5[0]\n",
    "            \n",
    "            # update the progress bar message\n",
    "            pbar.set_description(f\"Epoch {epoch}:\\tTrain Accuracy: {top1_train_accuracy.item():.2f}\\tTest Accuracy: {top1_accuracy.item()/ (counter + 1):.2f}\\tTest Top-5 Accuracy: {top5_accuracy.item()/ (counter + 1):.2f}\")\n",
    "    \n",
    "    top1_accuracy /= (len(test_loader))\n",
    "    top5_accuracy /= (len(test_loader))\n",
    "    \n",
    "    # save the model\n",
    "    if top1_accuracy > best_accuracy:\n",
    "        torch.save(linear_classifier.state_dict(), f\"runs/{subfolder}/linear_classifier_{epoch}_best_object_wise.pth\")\n",
    "        best_accuracy = top1_accuracy\n",
    "        \n",
    "    if use_wandb:\n",
    "        wandb.log({\"train_accuracy\": top1_train_accuracy,\n",
    "                   \"test_accuracy\": top1_accuracy,\n",
    "                   \"test_top5_accuracy\": top5_accuracy,\n",
    "                   \"epoch_loss\": epoch_loss})\n",
    "    print(f\"Epoch {epoch}:\\tEpoch Loss: {epoch_loss:.2f}\\tTrain Accuracy: {top1_train_accuracy.item():.2f}\\tTest Accuracy: {top1_accuracy.item():.2f}\\tTest Top-5 Accuracy: {top5_accuracy.item():.2f}\")"
   ],
   "metadata": {
    "collapsed": false,
    "ExecuteTime": {
     "end_time": "2023-10-09T16:53:01.656860674Z",
     "start_time": "2023-10-09T11:16:01.183130805Z"
    }
   },
   "id": "f78f0be5bcaea8de"
  },
  {
   "cell_type": "code",
   "execution_count": 8,
   "outputs": [],
   "source": [],
   "metadata": {
    "collapsed": false,
    "ExecuteTime": {
     "end_time": "2023-10-09T10:10:08.394522604Z",
     "start_time": "2023-10-09T10:10:08.390121236Z"
    }
   },
   "id": "2124965706594b65"
  }
 ],
 "metadata": {
  "kernelspec": {
   "display_name": "Python 3",
   "language": "python",
   "name": "python3"
  },
  "language_info": {
   "codemirror_mode": {
    "name": "ipython",
    "version": 2
   },
   "file_extension": ".py",
   "mimetype": "text/x-python",
   "name": "python",
   "nbconvert_exporter": "python",
   "pygments_lexer": "ipython2",
   "version": "2.7.6"
  }
 },
 "nbformat": 4,
 "nbformat_minor": 5
}
