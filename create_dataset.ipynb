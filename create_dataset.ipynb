{
 "cells": [
  {
   "cell_type": "markdown",
   "source": [],
   "metadata": {
    "collapsed": false
   }
  },
  {
   "cell_type": "code",
   "execution_count": 1,
   "outputs": [
    {
     "name": "stdout",
     "output_type": "stream",
     "text": [
      "Name files: ['calandra_corl2017_000.h5', 'calandra_corl2017_001.h5', 'calandra_corl2017_002.h5', 'calandra_corl2017_003.h5', 'calandra_corl2017_004.h5', 'calandra_corl2017_005.h5', 'calandra_corl2017_006.h5', 'calandra_corl2017_007.h5', 'calandra_corl2017_008.h5', 'calandra_corl2017_009.h5', 'calandra_corl2017_010.h5', 'calandra_corl2017_011.h5', 'calandra_corl2017_012.h5', 'calandra_corl2017_013.h5', 'calandra_corl2017_014.h5', 'calandra_corl2017_015.h5', 'calandra_corl2017_016.h5', 'calandra_corl2017_017.h5', 'calandra_corl2017_018.h5', 'calandra_corl2017_019.h5', 'calandra_corl2017_020.h5', 'calandra_corl2017_021.h5', 'calandra_corl2017_022.h5', 'calandra_corl2017_023.h5', 'calandra_corl2017_024.h5', 'calandra_corl2017_025.h5', 'calandra_corl2017_026.h5', 'calandra_corl2017_027.h5', 'calandra_corl2017_028.h5', 'calandra_corl2017_029.h5', 'calandra_corl2017_030.h5', 'calandra_corl2017_031.h5', 'calandra_corl2017_032.h5', 'calandra_corl2017_033.h5', 'calandra_corl2017_034.h5', 'calandra_corl2017_035.h5', 'calandra_corl2017_036.h5', 'calandra_corl2017_037.h5']\n",
      "Number files: 38\n",
      "Name files: ['calandra_corl2017_000.h5', 'calandra_corl2017_001.h5', 'calandra_corl2017_002.h5', 'calandra_corl2017_003.h5', 'calandra_corl2017_004.h5', 'calandra_corl2017_005.h5', 'calandra_corl2017_006.h5', 'calandra_corl2017_007.h5', 'calandra_corl2017_008.h5', 'calandra_corl2017_009.h5', 'calandra_corl2017_010.h5', 'calandra_corl2017_011.h5', 'calandra_corl2017_012.h5', 'calandra_corl2017_013.h5', 'calandra_corl2017_014.h5', 'calandra_corl2017_015.h5', 'calandra_corl2017_016.h5', 'calandra_corl2017_017.h5', 'calandra_corl2017_018.h5', 'calandra_corl2017_019.h5', 'calandra_corl2017_020.h5', 'calandra_corl2017_021.h5', 'calandra_corl2017_022.h5', 'calandra_corl2017_023.h5', 'calandra_corl2017_024.h5', 'calandra_corl2017_025.h5', 'calandra_corl2017_026.h5', 'calandra_corl2017_027.h5', 'calandra_corl2017_028.h5', 'calandra_corl2017_029.h5', 'calandra_corl2017_030.h5', 'calandra_corl2017_031.h5', 'calandra_corl2017_032.h5', 'calandra_corl2017_033.h5', 'calandra_corl2017_034.h5', 'calandra_corl2017_035.h5', 'calandra_corl2017_036.h5', 'calandra_corl2017_037.h5']\n"
     ]
    }
   ],
   "source": [
    "import os\n",
    "\n",
    "folderIn = 'calandradaraset/'\n",
    "extension_in = 'h5'\n",
    "namefiles = [each for each in os.listdir(folderIn) if each.endswith(extension_in)]\n",
    "namefiles.sort()\n",
    "print('Name files: %s' % namefiles)\n",
    "print('Number files: %d' % len(namefiles))\n",
    "# list of indexes of the files to load\n",
    "idxs = [i for i in range(38)]\n",
    "# create a list of filename that append the above indexes to 'calandra_corl2017_'\n",
    "namefiles = ['calandra_corl2017_%03d.h5' % idx for idx in idxs]\n",
    "print('Name files: %s' % namefiles)"
   ],
   "metadata": {
    "collapsed": false
   }
  },
  {
   "cell_type": "markdown",
   "source": [
    "The script below takes the data from the h5 files and saves the images in the corresponding folders. The images are saved in the following format: object_name/sensor/<object_name>_<is_gripping>_<sensor>_<phase>_idx.png. The script takes several minutes to execute."
   ],
   "metadata": {
    "collapsed": false
   }
  },
  {
   "cell_type": "code",
   "execution_count": null,
   "outputs": [
    {
     "name": "stdout",
     "output_type": "stream",
     "text": [
      "Loading file: calandra_corl2017_000.h5\n",
      "N data: 250\n",
      "Progress: 0/250\n",
      "Time elapsed: 20 seconds\n",
      "Progress: 50/250\n",
      "Time elapsed: 90 seconds\n",
      "Progress: 100/250\n",
      "Time elapsed: 160 seconds\n",
      "Progress: 150/250\n",
      "Time elapsed: 230 seconds\n",
      "Progress: 200/250\n",
      "Time elapsed: 299 seconds\n",
      "Loading file: calandra_corl2017_001.h5\n",
      "N data: 250\n",
      "Progress: 0/250\n",
      "Time elapsed: 388 seconds\n",
      "Progress: 50/250\n",
      "Time elapsed: 459 seconds\n",
      "Progress: 100/250\n",
      "Time elapsed: 529 seconds\n",
      "Progress: 150/250\n",
      "Time elapsed: 600 seconds\n",
      "Progress: 200/250\n",
      "Time elapsed: 671 seconds\n",
      "Loading file: calandra_corl2017_002.h5\n",
      "N data: 250\n",
      "Progress: 0/250\n",
      "Time elapsed: 761 seconds\n",
      "Progress: 50/250\n",
      "Time elapsed: 831 seconds\n",
      "Progress: 100/250\n",
      "Time elapsed: 902 seconds\n",
      "Progress: 150/250\n",
      "Time elapsed: 971 seconds\n"
     ]
    }
   ],
   "source": [
    "\"\"\"\n",
    "This script takes several minutes to execute. \n",
    "Approximately 5 minutes per h5 file on a 5.8 GHz i9-13900K with 128gb ram, \n",
    "i.e. apprx 3hours for all 38 files.\n",
    "\"\"\"\n",
    "import os\n",
    "import deepdish as dd\n",
    "import matplotlib.pyplot as plt\n",
    "import time\n",
    "\n",
    "folderOut = 'calandra_objects/'\n",
    "if not os.path.exists(folderOut):\n",
    "    os.makedirs(folderOut)\n",
    "\n",
    "start_time = time.time()\n",
    "\n",
    "for namefile in namefiles:\n",
    "    # Load data from file\n",
    "    print('Loading file: %s' % namefile)\n",
    "    t = dd.io.load(folderIn+namefile)\n",
    "    n_data = len(t)\n",
    "    print(\"N data: %d\" % n_data)\n",
    "    \n",
    "    # iterate over the data, get the object name and the is_gripping flag per sample\n",
    "    for i in range(n_data):\n",
    "        object_name = t[i]['object_name']\n",
    "        is_gripping = t[i]['is_gripping']\n",
    "        # convert the object name to string\n",
    "        object_name = object_name.decode('utf-8')\n",
    "        \n",
    "        # create the directory for the object if it does not exist\n",
    "        if not os.path.exists(folderOut+object_name):\n",
    "            os.makedirs(folderOut+object_name)\n",
    "            \n",
    "        # create the directory for the kinectA_rgb_before if it does not exist\n",
    "        if not os.path.exists(folderOut+object_name+'/kinectA_rgb'):\n",
    "            os.makedirs(folderOut+object_name+'/kinectA_rgb')\n",
    "        if not os.path.exists(folderOut+object_name+'/gelsightA'):\n",
    "            os.makedirs(folderOut+object_name+'/gelsightA')\n",
    "        if not os.path.exists(folderOut+object_name+'/gelsightB'):\n",
    "            os.makedirs(folderOut+object_name+'/gelsightB')\n",
    "            \n",
    "        # find the biggest index that a sample has on one of the directories above\n",
    "        idx = 0\n",
    "        while os.path.exists(folderOut+object_name+'/'+'kinectA_rgb/'+object_name+'_'+('success' if is_gripping else 'failure')+'_'+'kinectA_rgb_before'+'_'+str(idx)+'.png'):\n",
    "            idx += 1\n",
    "        \n",
    "        # save the images in the corresponding directory\n",
    "        plt.imsave(folderOut+object_name+'/'+'kinectA_rgb/'+object_name+'_'+('success' if is_gripping else 'failure')+'_'+'kinectA_rgb_before'+'_'+str(idx)+'.png', t[i]['kinectA_rgb_before'])\n",
    "        plt.imsave(folderOut+object_name+'/'+'kinectA_rgb/'+object_name+'_'+('success' if is_gripping else 'failure')+'_'+'kinectA_rgb_during'+'_'+str(idx)+'.png', t[i]['kinectA_rgb_during'])\n",
    "        plt.imsave(folderOut+object_name+'/'+'kinectA_rgb/'+object_name+'_'+('success' if is_gripping else 'failure')+'_'+'kinectA_rgb_after'+'_'+str(idx)+'.png', t[i]['kinectA_rgb_after'])\n",
    "        plt.imsave(folderOut+object_name+'/'+'gelsightA/'+object_name+'_'+('success' if is_gripping else 'failure')+'_'+'gelsightA_before'+'_'+str(idx)+'.png', t[i]['gelsightA_before'])\n",
    "        plt.imsave(folderOut+object_name+'/'+'gelsightA/'+object_name+'_'+('success' if is_gripping else 'failure')+'_'+'gelsightA_during'+'_'+str(idx)+'.png', t[i]['gelsightA_during'])\n",
    "        plt.imsave(folderOut+object_name+'/'+'gelsightA/'+object_name+'_'+('success' if is_gripping else 'failure')+'_'+'gelsightA_after'+'_'+str(idx)+'.png', t[i]['gelsightA_after'])\n",
    "        plt.imsave(folderOut+object_name+'/'+'gelsightB/'+object_name+'_'+('success' if is_gripping else 'failure')+'_'+'gelsightB_before'+'_'+str(idx)+'.png', t[i]['gelsightB_before'])\n",
    "        plt.imsave(folderOut+object_name+'/'+'gelsightB/'+object_name+'_'+('success' if is_gripping else 'failure')+'_'+'gelsightB_during'+'_'+str(idx)+'.png', t[i]['gelsightB_during'])\n",
    "        plt.imsave(folderOut+object_name+'/'+'gelsightB/'+object_name+'_'+('success' if is_gripping else 'failure')+'_'+'gelsightB_after'+'_'+str(idx)+'.png', t[i]['gelsightB_after'])\n",
    "        \n",
    "        # print progress alongside the time it took to execute\n",
    "        if i % 50 == 0:\n",
    "            print(\"Progress: %d/%d\" % (i, n_data))\n",
    "            print(\"Time elapsed: %d seconds\" % (time.time() - start_time))\n",
    "            \n",
    "print(\"Done!\")\n",
    "print(\"Time elapsed: %d seconds\" % (time.time() - start_time))"
   ],
   "metadata": {
    "collapsed": false,
    "is_executing": true,
    "ExecuteTime": {
     "start_time": "2023-09-22T13:29:05.713426017Z"
    }
   }
  },
  {
   "cell_type": "markdown",
   "source": [
    "Remove objects that have only success or failure samples"
   ],
   "metadata": {
    "collapsed": false
   }
  },
  {
   "cell_type": "code",
   "execution_count": null,
   "outputs": [],
   "source": [
    "# check if an object has only success or failure samples and delete this object folder\n",
    "import os\n",
    "import shutil\n",
    "\n",
    "folderOut = 'calandra_objects/'\n",
    "objects = [each for each in os.listdir(folderOut) if os.path.isdir(folderOut+each)]\n",
    "for obj in objects:\n",
    "    success = [each for each in os.listdir(folderOut+obj) if each.endswith('success')]\n",
    "    failure = [each for each in os.listdir(folderOut+obj) if each.endswith('failure')]\n",
    "    if len(success) == 0 or len(failure) == 0:\n",
    "        shutil.rmtree(folderOut+obj)\n",
    "        print(\"Removed object: %s\" % obj)"
   ],
   "metadata": {
    "collapsed": false
   }
  },
  {
   "cell_type": "markdown",
   "source": [
    "Use the train and test object lists to split the data into train and test sets object_wise  "
   ],
   "metadata": {
    "collapsed": false
   }
  },
  {
   "cell_type": "code",
   "execution_count": null,
   "outputs": [],
   "source": [
    "import os\n",
    "import shutil\n",
    "\n",
    "folderOut = 'calandra_objects_split_object_wise/'\n",
    "train_objects = ['cinnamon', 'potato', 'aspirin', 'red_turtle', 'happy_fall_stone', 'monster_truck', 'soft_red_cube', 'lime', 'ogx_shampoo', 'peanut_butter', 'chocolate_shake', 'webcam_box', 'rubics_cube', 'muffin', 'red_bull', 'purple_small_plastic_fruit', 'onion', 'soft_blue_hexagon', 'plastic_cow', 'fox_head', 'small_coffe_cup', 'lemon', 'red_apple', '3d_printed_white_ball', 'set_small_plastic_men_police_man', 'dog_toy_ice_cream_cone', 'playdoh_container', 'bandaid_box', 'emergency_stop_button_for_sawyer', 'plastic_duck', 'brown_paper_cup_2_upside', 'mentos_gum_can']\n",
    "test_objects = ['international_travel_adapter', '3d_printed_blue_connector', 'soft_zebra', 'fake_flower_in_pot', 'metal_can', 'french_dip', 'metal_cylinder_with_holes', 'soft_beer_bottle_holder']\n",
    "\n",
    "if not os.path.exists(folderOut):\n",
    "    os.makedirs(folderOut)\n",
    "if not os.path.exists(folderOut+'train'):\n",
    "    os.makedirs(folderOut+'train')\n",
    "if not os.path.exists(folderOut+'test'):\n",
    "    os.makedirs(folderOut+'test')\n",
    "if not os.path.exists(folderOut+'train'+'/kinectA_rgb'):\n",
    "    os.makedirs(folderOut+'train'+'/kinectA_rgb')\n",
    "if not os.path.exists(folderOut+'train'+'/gelsightA'):\n",
    "    os.makedirs(folderOut+'train'+'/gelsightA')\n",
    "if not os.path.exists(folderOut+'train'+'/gelsightB'):\n",
    "    os.makedirs(folderOut+'train'+'/gelsightB')\n",
    "if not os.path.exists(folderOut+'test'+'/kinectA_rgb'):\n",
    "    os.makedirs(folderOut+'test'+'/kinectA_rgb')\n",
    "if not os.path.exists(folderOut+'test'+'/gelsightA'):\n",
    "    os.makedirs(folderOut+'test'+'/gelsightA')\n",
    "if not os.path.exists(folderOut+'test'+'/gelsightB'):\n",
    "    os.makedirs(folderOut+'test'+'/gelsightB')\n",
    "    \n",
    "# copy the train objects sample in the train/kinectA_rgb, train/gelsightA and train/gelsightB folders\n",
    "for obj in train_objects:\n",
    "    for sensor in ['kinectA_rgb', 'gelsightA', 'gelsightB']:\n",
    "        # copy all samples of the object\n",
    "        for each in os.listdir(folderOut+obj+'/'+sensor):\n",
    "            shutil.copy(folderOut+obj+'/'+sensor+'/'+each, folderOut+'train/'+sensor+'/'+each)\n",
    "            \n",
    "# copy the test objects sample in the test/kinectA_rgb, test/gelsightA and test/gelsightB folders\n",
    "for obj in test_objects:\n",
    "    for sensor in ['kinectA_rgb', 'gelsightA', 'gelsightB']:\n",
    "        # copy all samples of the object\n",
    "        for each in os.listdir(folderOut+obj+'/'+sensor):\n",
    "            shutil.copy(folderOut+obj+'/'+sensor+'/'+each, folderOut+'test/'+sensor+'/'+each)\n"
   ],
   "metadata": {
    "collapsed": false
   }
  },
  {
   "cell_type": "markdown",
   "source": [],
   "metadata": {
    "collapsed": false
   }
  }
 ],
 "metadata": {
  "kernelspec": {
   "display_name": "Python 3",
   "language": "python",
   "name": "python3"
  },
  "language_info": {
   "codemirror_mode": {
    "name": "ipython",
    "version": 3
   },
   "file_extension": ".py",
   "mimetype": "text/x-python",
   "name": "python",
   "nbconvert_exporter": "python",
   "pygments_lexer": "ipython3",
   "version": "3.6.3"
  }
 },
 "nbformat": 4,
 "nbformat_minor": 2
}
